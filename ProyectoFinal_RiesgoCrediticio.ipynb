{
 "cells": [
  {
   "cell_type": "markdown",
   "metadata": {},
   "source": [
    "# Proyecto Final Riesgo de Crédito"
   ]
  },
  {
   "cell_type": "markdown",
   "metadata": {},
   "source": [
    "*Helga Zambrana | Data Science*"
   ]
  },
  {
   "cell_type": "markdown",
   "metadata": {},
   "source": [
    "### Alcance del proyecto"
   ]
  },
  {
   "cell_type": "markdown",
   "metadata": {},
   "source": [
    "El riesgo de crédito analiza la probabilidad de que un prestatario no reembolse un préstamo solicitado, generando pérdidas en el prestamista. A través del desarrollo de un modelo de aprendizaje automático se busca facilitar las aprobaciones de créditos, identificando los indicadores que diferencian a los solicitantes que tienden a pagar sus deudas de quienes no."
   ]
  },
  {
   "cell_type": "markdown",
   "metadata": {},
   "source": [
    "### Objetivos del proyecto"
   ]
  },
  {
   "cell_type": "markdown",
   "metadata": {},
   "source": [
    "Los objetivos de este proyecto final son:\n",
    "- analizar la información disponible de los aplicantes a un préstamo e identificar las posibles variables que determinan si el solicitante no pagará el préstamo\n",
    "- analizar diferentes opciones de modelos de clasificación y seleccionar el que tenga la mejor performance en predecir si el solicitante pagará o no el préstamo\n",
    "- desarrollar un modelo de riesgo de crédito en Python para predecir las probabilidades de impago (PD) y asignar puntuaciones de crédito a los solicitantes existentes o potenciales"
   ]
  },
  {
   "cell_type": "markdown",
   "metadata": {},
   "source": [
    "### Data Acquisition"
   ]
  },
  {
   "cell_type": "code",
   "execution_count": 1,
   "metadata": {},
   "outputs": [
    {
     "name": "stderr",
     "output_type": "stream",
     "text": [
      "c:\\ProgramData\\Miniconda3\\lib\\site-packages\\scipy\\__init__.py:146: UserWarning: A NumPy version >=1.16.5 and <1.23.0 is required for this version of SciPy (detected version 1.23.0\n",
      "  warnings.warn(f\"A NumPy version >={np_minversion} and <{np_maxversion}\"\n"
     ]
    }
   ],
   "source": [
    "%matplotlib inline\n",
    "# Importar librerías\n",
    "\n",
    "# Para operaciones básicas\n",
    "import numpy as np\n",
    "import pandas as pd\n",
    "import pandas_profiling\n",
    "\n",
    "# Para visualización de datos\n",
    "import matplotlib.pyplot as plt\n",
    "import seaborn as sns\n",
    "\n",
    "# Para división entre train y test\n",
    "from sklearn.model_selection import train_test_split\n",
    "from sklearn.impute import SimpleImputer, KNNImputer\n",
    "\n",
    "# Ocultar los mensajes de advertencia\n",
    "import warnings\n",
    "warnings.filterwarnings('ignore')"
   ]
  },
  {
   "cell_type": "code",
   "execution_count": 27,
   "metadata": {},
   "outputs": [],
   "source": [
    "# Settings\n",
    "# Seaborn theme\n",
    "sns.set_theme()\n",
    "\n",
    "# Matplotlib parameters\n",
    "COLOR = '#ababab'\n",
    "plt.rcParams['figure.titlesize'] = 16\n",
    "plt.rcParams['text.color'] = 'black'\n",
    "plt.rcParams['axes.labelcolor'] = COLOR\n",
    "plt.rcParams['xtick.color'] = COLOR\n",
    "plt.rcParams['ytick.color'] = COLOR\n",
    "plt.rcParams['grid.color'] = COLOR"
   ]
  },
  {
   "cell_type": "markdown",
   "metadata": {},
   "source": [
    "El dataset elegido fue Home Equity (HMEQ) de Kaggle: https://www.kaggle.com/datasets/ajay1735/hmeq-data  \n",
    "HMEQ presenta información sobre las características y la morosidad de 5960 prestamistas con garantía hipotecaria.  \n",
    "El dataset contiene las siguientes variables:\n",
    "- BAD: Variable binaria. 1, corresponde a un prestamista con deuda impaga o con mora; 0, corresponde al candidato con los pagos de una deuda al día. Se considera morosidad cuando han pasado 90 días desde que el prestamista no ha pagado\n",
    "- LOAN: Variable numérica continua. Monto en USD del préstamo solicitado\n",
    "- MORTDUE: Variable numérica continua. Monto en USD adeudado de la hipoteca existente\n",
    "- VALUE: Variable numérica continua. Monto en USD de la propiedad hipotecada\n",
    "- REASON: Variable categórica. Motivo para solicitar el préstamo. DebtCon, corresponde a consolidación de deudas; HomeImp, corresponde a mejoras para el hogar\n",
    "- JOB: Variable categórica. Profesión o categoría profesional\n",
    "- YOJ: Variable numérica discreta. Cantidad de tiempo expresado en años desde que ingresó al trabajo actual\n",
    "- DEROG: Variable numérica discreta. Número de informes derogatorios importantes. Es información proporcionada por una institución financiera a las agencias de crédito y se relaciona con la morosidad o la cancelación de una cuenta de una línea de crédito\n",
    "- DELINQ: Variable numérica discreta. Número de líneas de crédito morosas\n",
    "- CLAGE: Variable numérica discreta. Edad expresada en meses de la línea de crédito de mayor antigüedad, los modelos de puntuación consideran un mínimo de 6 meses y recién a partir de 2 años es fiable\n",
    "- NINQ: Variable numérica discreta. Número de veces que ha solicitado un nuevo crédito en los últimos 2 años\n",
    "- CLNO: Variable numérica discreta. Número de líneas de crédito abiertas\n",
    "- DEBTINC: Variable numérica continua. Ratio deuda-ingreso (DTI), es la cantidad de ingresos brutos mensuales que una persona genera frente a la deuda que debe pagar por mes. Los prestamistas generalmente buscan ratios no mayores al 36%, aunque un DTI del 43% puede calificar para una hipoteca\n"
   ]
  },
  {
   "cell_type": "code",
   "execution_count": 28,
   "metadata": {},
   "outputs": [],
   "source": [
    "# Leer el dataset y crear un backup\n",
    "historial_credito_backup = pd.read_csv(\"hmeq.csv\")\n",
    "historial_credito = historial_credito_backup"
   ]
  },
  {
   "cell_type": "code",
   "execution_count": 29,
   "metadata": {},
   "outputs": [
    {
     "name": "stdout",
     "output_type": "stream",
     "text": [
      "El dataset tiene 5960 filas y 13 columnas.\n"
     ]
    }
   ],
   "source": [
    "# Obtener el tamaño del dataset\n",
    "print('El dataset tiene ' + str(historial_credito.shape[0]) + ' filas y ' + str(historial_credito.shape[1]) + ' columnas.')"
   ]
  },
  {
   "cell_type": "code",
   "execution_count": 30,
   "metadata": {},
   "outputs": [
    {
     "name": "stdout",
     "output_type": "stream",
     "text": [
      "<class 'pandas.core.frame.DataFrame'>\n",
      "RangeIndex: 5960 entries, 0 to 5959\n",
      "Data columns (total 13 columns):\n",
      " #   Column   Non-Null Count  Dtype  \n",
      "---  ------   --------------  -----  \n",
      " 0   BAD      5960 non-null   int64  \n",
      " 1   LOAN     5960 non-null   int64  \n",
      " 2   MORTDUE  5442 non-null   float64\n",
      " 3   VALUE    5848 non-null   float64\n",
      " 4   REASON   5708 non-null   object \n",
      " 5   JOB      5681 non-null   object \n",
      " 6   YOJ      5445 non-null   float64\n",
      " 7   DEROG    5252 non-null   float64\n",
      " 8   DELINQ   5380 non-null   float64\n",
      " 9   CLAGE    5652 non-null   float64\n",
      " 10  NINQ     5450 non-null   float64\n",
      " 11  CLNO     5738 non-null   float64\n",
      " 12  DEBTINC  4693 non-null   float64\n",
      "dtypes: float64(9), int64(2), object(2)\n",
      "memory usage: 605.4+ KB\n"
     ]
    }
   ],
   "source": [
    "# Mostrar información sobre el nombre de columnas, cantidad de registros que no son nulos \n",
    "historial_credito.info()\n"
   ]
  },
  {
   "cell_type": "code",
   "execution_count": 31,
   "metadata": {},
   "outputs": [
    {
     "data": {
      "text/plain": [
       "float64    9\n",
       "int64      2\n",
       "object     2\n",
       "dtype: int64"
      ]
     },
     "execution_count": 31,
     "metadata": {},
     "output_type": "execute_result"
    }
   ],
   "source": [
    "# Mostrar tipos de datos existentes en el dataset\n",
    "historial_credito.dtypes.value_counts()"
   ]
  },
  {
   "cell_type": "code",
   "execution_count": 32,
   "metadata": {},
   "outputs": [
    {
     "data": {
      "text/html": [
       "<div>\n",
       "<style scoped>\n",
       "    .dataframe tbody tr th:only-of-type {\n",
       "        vertical-align: middle;\n",
       "    }\n",
       "\n",
       "    .dataframe tbody tr th {\n",
       "        vertical-align: top;\n",
       "    }\n",
       "\n",
       "    .dataframe thead th {\n",
       "        text-align: right;\n",
       "    }\n",
       "</style>\n",
       "<table border=\"1\" class=\"dataframe\">\n",
       "  <thead>\n",
       "    <tr style=\"text-align: right;\">\n",
       "      <th></th>\n",
       "      <th>BAD</th>\n",
       "      <th>LOAN</th>\n",
       "      <th>MORTDUE</th>\n",
       "      <th>VALUE</th>\n",
       "      <th>REASON</th>\n",
       "      <th>JOB</th>\n",
       "      <th>YOJ</th>\n",
       "      <th>DEROG</th>\n",
       "      <th>DELINQ</th>\n",
       "      <th>CLAGE</th>\n",
       "      <th>NINQ</th>\n",
       "      <th>CLNO</th>\n",
       "      <th>DEBTINC</th>\n",
       "    </tr>\n",
       "  </thead>\n",
       "  <tbody>\n",
       "    <tr>\n",
       "      <th>0</th>\n",
       "      <td>1</td>\n",
       "      <td>1100</td>\n",
       "      <td>25860.0</td>\n",
       "      <td>39025.0</td>\n",
       "      <td>HomeImp</td>\n",
       "      <td>Other</td>\n",
       "      <td>10.5</td>\n",
       "      <td>0.0</td>\n",
       "      <td>0.0</td>\n",
       "      <td>94.366667</td>\n",
       "      <td>1.0</td>\n",
       "      <td>9.0</td>\n",
       "      <td>NaN</td>\n",
       "    </tr>\n",
       "    <tr>\n",
       "      <th>1</th>\n",
       "      <td>1</td>\n",
       "      <td>1300</td>\n",
       "      <td>70053.0</td>\n",
       "      <td>68400.0</td>\n",
       "      <td>HomeImp</td>\n",
       "      <td>Other</td>\n",
       "      <td>7.0</td>\n",
       "      <td>0.0</td>\n",
       "      <td>2.0</td>\n",
       "      <td>121.833333</td>\n",
       "      <td>0.0</td>\n",
       "      <td>14.0</td>\n",
       "      <td>NaN</td>\n",
       "    </tr>\n",
       "    <tr>\n",
       "      <th>2</th>\n",
       "      <td>1</td>\n",
       "      <td>1500</td>\n",
       "      <td>13500.0</td>\n",
       "      <td>16700.0</td>\n",
       "      <td>HomeImp</td>\n",
       "      <td>Other</td>\n",
       "      <td>4.0</td>\n",
       "      <td>0.0</td>\n",
       "      <td>0.0</td>\n",
       "      <td>149.466667</td>\n",
       "      <td>1.0</td>\n",
       "      <td>10.0</td>\n",
       "      <td>NaN</td>\n",
       "    </tr>\n",
       "    <tr>\n",
       "      <th>3</th>\n",
       "      <td>1</td>\n",
       "      <td>1500</td>\n",
       "      <td>NaN</td>\n",
       "      <td>NaN</td>\n",
       "      <td>NaN</td>\n",
       "      <td>NaN</td>\n",
       "      <td>NaN</td>\n",
       "      <td>NaN</td>\n",
       "      <td>NaN</td>\n",
       "      <td>NaN</td>\n",
       "      <td>NaN</td>\n",
       "      <td>NaN</td>\n",
       "      <td>NaN</td>\n",
       "    </tr>\n",
       "    <tr>\n",
       "      <th>4</th>\n",
       "      <td>0</td>\n",
       "      <td>1700</td>\n",
       "      <td>97800.0</td>\n",
       "      <td>112000.0</td>\n",
       "      <td>HomeImp</td>\n",
       "      <td>Office</td>\n",
       "      <td>3.0</td>\n",
       "      <td>0.0</td>\n",
       "      <td>0.0</td>\n",
       "      <td>93.333333</td>\n",
       "      <td>0.0</td>\n",
       "      <td>14.0</td>\n",
       "      <td>NaN</td>\n",
       "    </tr>\n",
       "  </tbody>\n",
       "</table>\n",
       "</div>"
      ],
      "text/plain": [
       "   BAD  LOAN  MORTDUE     VALUE   REASON     JOB   YOJ  DEROG  DELINQ  \\\n",
       "0    1  1100  25860.0   39025.0  HomeImp   Other  10.5    0.0     0.0   \n",
       "1    1  1300  70053.0   68400.0  HomeImp   Other   7.0    0.0     2.0   \n",
       "2    1  1500  13500.0   16700.0  HomeImp   Other   4.0    0.0     0.0   \n",
       "3    1  1500      NaN       NaN      NaN     NaN   NaN    NaN     NaN   \n",
       "4    0  1700  97800.0  112000.0  HomeImp  Office   3.0    0.0     0.0   \n",
       "\n",
       "        CLAGE  NINQ  CLNO  DEBTINC  \n",
       "0   94.366667   1.0   9.0      NaN  \n",
       "1  121.833333   0.0  14.0      NaN  \n",
       "2  149.466667   1.0  10.0      NaN  \n",
       "3         NaN   NaN   NaN      NaN  \n",
       "4   93.333333   0.0  14.0      NaN  "
      ]
     },
     "execution_count": 32,
     "metadata": {},
     "output_type": "execute_result"
    }
   ],
   "source": [
    "# Visualizar los primeros 5 registros\n",
    "historial_credito.head()"
   ]
  },
  {
   "cell_type": "markdown",
   "metadata": {},
   "source": [
    "#### *Valores duplicados y nulos*"
   ]
  },
  {
   "cell_type": "code",
   "execution_count": 33,
   "metadata": {},
   "outputs": [
    {
     "data": {
      "text/html": [
       "<div>\n",
       "<style scoped>\n",
       "    .dataframe tbody tr th:only-of-type {\n",
       "        vertical-align: middle;\n",
       "    }\n",
       "\n",
       "    .dataframe tbody tr th {\n",
       "        vertical-align: top;\n",
       "    }\n",
       "\n",
       "    .dataframe thead th {\n",
       "        text-align: right;\n",
       "    }\n",
       "</style>\n",
       "<table border=\"1\" class=\"dataframe\">\n",
       "  <thead>\n",
       "    <tr style=\"text-align: right;\">\n",
       "      <th></th>\n",
       "      <th>BAD</th>\n",
       "      <th>LOAN</th>\n",
       "      <th>MORTDUE</th>\n",
       "      <th>VALUE</th>\n",
       "      <th>REASON</th>\n",
       "      <th>JOB</th>\n",
       "      <th>YOJ</th>\n",
       "      <th>DEROG</th>\n",
       "      <th>DELINQ</th>\n",
       "      <th>CLAGE</th>\n",
       "      <th>NINQ</th>\n",
       "      <th>CLNO</th>\n",
       "      <th>DEBTINC</th>\n",
       "    </tr>\n",
       "  </thead>\n",
       "  <tbody>\n",
       "  </tbody>\n",
       "</table>\n",
       "</div>"
      ],
      "text/plain": [
       "Empty DataFrame\n",
       "Columns: [BAD, LOAN, MORTDUE, VALUE, REASON, JOB, YOJ, DEROG, DELINQ, CLAGE, NINQ, CLNO, DEBTINC]\n",
       "Index: []"
      ]
     },
     "execution_count": 33,
     "metadata": {},
     "output_type": "execute_result"
    }
   ],
   "source": [
    "#Verificar si existen datos duplicados en el dataset\n",
    "historial_credito[historial_credito.duplicated()]"
   ]
  },
  {
   "cell_type": "markdown",
   "metadata": {},
   "source": [
    "No existen registros duplicados en el dataset."
   ]
  },
  {
   "cell_type": "code",
   "execution_count": 35,
   "metadata": {},
   "outputs": [
    {
     "name": "stdout",
     "output_type": "stream",
     "text": [
      "Columnas con valores faltantes: 11\n",
      "Total de columnas: 13\n",
      "Porcentaje de columnas con valores faltantes: 84.6%\n"
     ]
    },
    {
     "data": {
      "text/html": [
       "<div>\n",
       "<style scoped>\n",
       "    .dataframe tbody tr th:only-of-type {\n",
       "        vertical-align: middle;\n",
       "    }\n",
       "\n",
       "    .dataframe tbody tr th {\n",
       "        vertical-align: top;\n",
       "    }\n",
       "\n",
       "    .dataframe thead th {\n",
       "        text-align: right;\n",
       "    }\n",
       "</style>\n",
       "<table border=\"1\" class=\"dataframe\">\n",
       "  <thead>\n",
       "    <tr style=\"text-align: right;\">\n",
       "      <th></th>\n",
       "      <th>Cantidad Datos Faltantes</th>\n",
       "      <th>Porcentaje Datos Faltantes</th>\n",
       "    </tr>\n",
       "  </thead>\n",
       "  <tbody>\n",
       "    <tr>\n",
       "      <th>DEBTINC</th>\n",
       "      <td>1267</td>\n",
       "      <td>21.3</td>\n",
       "    </tr>\n",
       "    <tr>\n",
       "      <th>DEROG</th>\n",
       "      <td>708</td>\n",
       "      <td>11.9</td>\n",
       "    </tr>\n",
       "    <tr>\n",
       "      <th>DELINQ</th>\n",
       "      <td>580</td>\n",
       "      <td>9.7</td>\n",
       "    </tr>\n",
       "    <tr>\n",
       "      <th>MORTDUE</th>\n",
       "      <td>518</td>\n",
       "      <td>8.7</td>\n",
       "    </tr>\n",
       "    <tr>\n",
       "      <th>YOJ</th>\n",
       "      <td>515</td>\n",
       "      <td>8.6</td>\n",
       "    </tr>\n",
       "    <tr>\n",
       "      <th>NINQ</th>\n",
       "      <td>510</td>\n",
       "      <td>8.6</td>\n",
       "    </tr>\n",
       "    <tr>\n",
       "      <th>CLAGE</th>\n",
       "      <td>308</td>\n",
       "      <td>5.2</td>\n",
       "    </tr>\n",
       "    <tr>\n",
       "      <th>JOB</th>\n",
       "      <td>279</td>\n",
       "      <td>4.7</td>\n",
       "    </tr>\n",
       "    <tr>\n",
       "      <th>REASON</th>\n",
       "      <td>252</td>\n",
       "      <td>4.2</td>\n",
       "    </tr>\n",
       "    <tr>\n",
       "      <th>CLNO</th>\n",
       "      <td>222</td>\n",
       "      <td>3.7</td>\n",
       "    </tr>\n",
       "    <tr>\n",
       "      <th>VALUE</th>\n",
       "      <td>112</td>\n",
       "      <td>1.9</td>\n",
       "    </tr>\n",
       "    <tr>\n",
       "      <th>BAD</th>\n",
       "      <td>0</td>\n",
       "      <td>0.0</td>\n",
       "    </tr>\n",
       "    <tr>\n",
       "      <th>LOAN</th>\n",
       "      <td>0</td>\n",
       "      <td>0.0</td>\n",
       "    </tr>\n",
       "  </tbody>\n",
       "</table>\n",
       "</div>"
      ],
      "text/plain": [
       "         Cantidad Datos Faltantes  Porcentaje Datos Faltantes\n",
       "DEBTINC                      1267                        21.3\n",
       "DEROG                         708                        11.9\n",
       "DELINQ                        580                         9.7\n",
       "MORTDUE                       518                         8.7\n",
       "YOJ                           515                         8.6\n",
       "NINQ                          510                         8.6\n",
       "CLAGE                         308                         5.2\n",
       "JOB                           279                         4.7\n",
       "REASON                        252                         4.2\n",
       "CLNO                          222                         3.7\n",
       "VALUE                         112                         1.9\n",
       "BAD                             0                         0.0\n",
       "LOAN                            0                         0.0"
      ]
     },
     "execution_count": 35,
     "metadata": {},
     "output_type": "execute_result"
    }
   ],
   "source": [
    "# Crear una función que muestre la información sobre valores faltantes del dataset\n",
    "def get_missing_values_info(df):\n",
    "\n",
    "    # Contar los valores faltantes en cada columna\n",
    "    count_missing = df.isnull().sum()\n",
    "\n",
    "    # Mostrar los valores faltantes como un porcentaje\n",
    "    percent_missing = (100 * count_missing / df.shape[0]).round(1)\n",
    "\n",
    "    # Crear el dataframe con los resultados \n",
    "    missing_df = pd.DataFrame({'Cantidad Datos Faltantes':count_missing,\n",
    "                               'Porcentaje Datos Faltantes':percent_missing})\n",
    "\n",
    "    # Ordenar los valores por el porcentaje de datos faltantes\n",
    "    missing_df = missing_df.sort_values('Porcentaje Datos Faltantes', ascending=False)\n",
    "\n",
    "    # Mostrar el porcentaje de columnas con valores faltantes y comparar con el número total de columnas\n",
    "    missing_values_list = df.columns[df.isnull().any()].tolist()\n",
    "    cols_missing_vals = len(missing_values_list)\n",
    "    df_cols = df.shape[1]\n",
    "\n",
    "    print(f'Columnas con valores faltantes: {cols_missing_vals}')\n",
    "    print(f'Total de columnas: {df_cols}')\n",
    "    print(f'Porcentaje de columnas con valores faltantes: {round(cols_missing_vals/df_cols*100,1)}%')\n",
    "\n",
    "    return missing_df\n",
    "\n",
    "get_missing_values_info(historial_credito)"
   ]
  },
  {
   "cell_type": "markdown",
   "metadata": {},
   "source": [
    "'DEBTINC' es la variable que cuenta con mayor cantidad de valores nulos con un 21.3% del total."
   ]
  },
  {
   "cell_type": "code",
   "execution_count": 36,
   "metadata": {},
   "outputs": [
    {
     "data": {
      "text/plain": [
       "<AxesSubplot:>"
      ]
     },
     "execution_count": 36,
     "metadata": {},
     "output_type": "execute_result"
    },
    {
     "data": {
      "image/png": "[encoded data removed]",
      "text/plain": [
       "<Figure size 1080x576 with 1 Axes>"
      ]
     },
     "metadata": {},
     "output_type": "display_data"
    }
   ],
   "source": [
    "# Identificar los valores nulos de manera visual\n",
    "sns.heatmap(historial_credito.isnull(), cbar = False, yticklabels=False)"
   ]
  },
  {
   "cell_type": "markdown",
   "metadata": {},
   "source": [
    "#### *Variable target 'BAD'*"
   ]
  },
  {
   "cell_type": "code",
   "execution_count": 37,
   "metadata": {},
   "outputs": [
    {
     "data": {
      "text/html": [
       "<div>\n",
       "<style scoped>\n",
       "    .dataframe tbody tr th:only-of-type {\n",
       "        vertical-align: middle;\n",
       "    }\n",
       "\n",
       "    .dataframe tbody tr th {\n",
       "        vertical-align: top;\n",
       "    }\n",
       "\n",
       "    .dataframe thead th {\n",
       "        text-align: right;\n",
       "    }\n",
       "</style>\n",
       "<table border=\"1\" class=\"dataframe\">\n",
       "  <thead>\n",
       "    <tr style=\"text-align: right;\">\n",
       "      <th></th>\n",
       "      <th>Cantidad</th>\n",
       "      <th>Porcentaje</th>\n",
       "    </tr>\n",
       "  </thead>\n",
       "  <tbody>\n",
       "    <tr>\n",
       "      <th>0</th>\n",
       "      <td>4771</td>\n",
       "      <td>80.1</td>\n",
       "    </tr>\n",
       "    <tr>\n",
       "      <th>1</th>\n",
       "      <td>1189</td>\n",
       "      <td>19.9</td>\n",
       "    </tr>\n",
       "  </tbody>\n",
       "</table>\n",
       "</div>"
      ],
      "text/plain": [
       "   Cantidad  Porcentaje\n",
       "0      4771        80.1\n",
       "1      1189        19.9"
      ]
     },
     "execution_count": 37,
     "metadata": {},
     "output_type": "execute_result"
    }
   ],
   "source": [
    "# Crear una función que muestre la información sobre BAD\n",
    "def valoresBAD_info(df):\n",
    "\n",
    "    # Mostrar la cantidad de registros de BAD\n",
    "    count_BAD = df['BAD']. value_counts()\n",
    "\n",
    "    # Obtener la cantidad de registros de BAD como un porcentaje\n",
    "    percent_BAD = (100 * count_BAD / df.shape[0]).round(1)\n",
    "\n",
    "    # Crear un dataframe con los resultados\n",
    "    values_df = pd.DataFrame({'Cantidad':count_BAD,\n",
    "                               'Porcentaje':percent_BAD})\n",
    "\n",
    "    return values_df\n",
    "\n",
    "valoresBAD_info(historial_credito)"
   ]
  },
  {
   "cell_type": "markdown",
   "metadata": {},
   "source": [
    "Consideramos al atributo 'BAD' nuestra variable target. El mismo divide a las personas con su deuda al día (BAD = 0) de las personas con deuda morosa (BAD = 1).  \n",
    "Una primera conclusión es que el dataset está desbalanceado porque solo el 19.9% del dataset representa a las personas con deuda morosa. Hay que tenerlo en cuenta al momento de aplicar el modelo de Machine Learning."
   ]
  },
  {
   "cell_type": "markdown",
   "metadata": {},
   "source": [
    "#### *División entre Train y Test*"
   ]
  },
  {
   "cell_type": "markdown",
   "metadata": {},
   "source": [
    "Antes de comenzar a limpiar e imputar los datos faltantes, debemos dividir el dataset en 2 conjuntos:\n",
    "- \"Train\", 80% del total de registros del dataset, que usaremos para entrenar nuestro modelo\n",
    "- \"Test\", 20% del total de registros del dataset, sobre el que evaluaremos nuestro modelo entrenado"
   ]
  },
  {
   "cell_type": "code",
   "execution_count": 38,
   "metadata": {},
   "outputs": [
    {
     "name": "stdout",
     "output_type": "stream",
     "text": [
      "Cantidad de registros en X_train:  4768\n",
      "Cantidad de registros en X_test:  1192\n",
      "Cantidad de registros en y_train:  4768\n",
      "Cantidad de registros en y_test:  1192\n"
     ]
    }
   ],
   "source": [
    "# Dividir aleatoriamente el dataset en train (80%) y test (20%) y mantener la distribución de cantidad de personas morosas en el test set\n",
    "X = historial_credito.drop('BAD', axis=1)\n",
    "y = historial_credito['BAD']\n",
    "X_train, X_test, y_train, y_test = train_test_split(X, y, test_size = 0.20, random_state = 42, stratify = y)\n",
    "# Mostrar la cantidad de variables independientes que se usarán para entrenar el modelo\n",
    "print(\"Cantidad de registros en X_train: \", len(X_train))\n",
    "# Mostrar la cantidad de variables independientes que se usarán para realizar predicciones y testear la precisión del modelo\n",
    "print(\"Cantidad de registros en X_test: \", len(X_test))\n",
    "# Mostrar la cantidad de variables dependientes que necesitan ser predichas por este modelo, incluyendo etiquetas de categoría contra sus variables independientes\n",
    "print(\"Cantidad de registros en y_train: \", len(y_train))\n",
    "# Mostrar la cantidad de datos con etiquetas de categoría, se utilizarán para probar la precisión entre las categorías reales y las predichas.\n",
    "print(\"Cantidad de registros en y_test: \", len(y_test))"
   ]
  },
  {
   "cell_type": "code",
   "execution_count": 39,
   "metadata": {},
   "outputs": [
    {
     "data": {
      "text/html": [
       "<div>\n",
       "<style scoped>\n",
       "    .dataframe tbody tr th:only-of-type {\n",
       "        vertical-align: middle;\n",
       "    }\n",
       "\n",
       "    .dataframe tbody tr th {\n",
       "        vertical-align: top;\n",
       "    }\n",
       "\n",
       "    .dataframe thead th {\n",
       "        text-align: right;\n",
       "    }\n",
       "</style>\n",
       "<table border=\"1\" class=\"dataframe\">\n",
       "  <thead>\n",
       "    <tr style=\"text-align: right;\">\n",
       "      <th></th>\n",
       "      <th>LOAN</th>\n",
       "      <th>MORTDUE</th>\n",
       "      <th>VALUE</th>\n",
       "      <th>REASON</th>\n",
       "      <th>JOB</th>\n",
       "      <th>YOJ</th>\n",
       "      <th>DEROG</th>\n",
       "      <th>DELINQ</th>\n",
       "      <th>CLAGE</th>\n",
       "      <th>NINQ</th>\n",
       "      <th>CLNO</th>\n",
       "      <th>DEBTINC</th>\n",
       "      <th>BAD</th>\n",
       "    </tr>\n",
       "  </thead>\n",
       "  <tbody>\n",
       "    <tr>\n",
       "      <th>609</th>\n",
       "      <td>7700</td>\n",
       "      <td>70451.00</td>\n",
       "      <td>81862.0</td>\n",
       "      <td>DebtCon</td>\n",
       "      <td>Sales</td>\n",
       "      <td>3.0</td>\n",
       "      <td>0.0</td>\n",
       "      <td>0.0</td>\n",
       "      <td>141.268671</td>\n",
       "      <td>0.0</td>\n",
       "      <td>31.0</td>\n",
       "      <td>31.681943</td>\n",
       "      <td>0</td>\n",
       "    </tr>\n",
       "    <tr>\n",
       "      <th>4015</th>\n",
       "      <td>21000</td>\n",
       "      <td>48735.00</td>\n",
       "      <td>71694.0</td>\n",
       "      <td>DebtCon</td>\n",
       "      <td>Other</td>\n",
       "      <td>8.0</td>\n",
       "      <td>0.0</td>\n",
       "      <td>0.0</td>\n",
       "      <td>48.498971</td>\n",
       "      <td>3.0</td>\n",
       "      <td>10.0</td>\n",
       "      <td>32.921401</td>\n",
       "      <td>1</td>\n",
       "    </tr>\n",
       "    <tr>\n",
       "      <th>1591</th>\n",
       "      <td>11500</td>\n",
       "      <td>63136.00</td>\n",
       "      <td>81099.0</td>\n",
       "      <td>DebtCon</td>\n",
       "      <td>Other</td>\n",
       "      <td>3.0</td>\n",
       "      <td>NaN</td>\n",
       "      <td>NaN</td>\n",
       "      <td>149.064745</td>\n",
       "      <td>NaN</td>\n",
       "      <td>35.0</td>\n",
       "      <td>28.975940</td>\n",
       "      <td>0</td>\n",
       "    </tr>\n",
       "    <tr>\n",
       "      <th>1127</th>\n",
       "      <td>9900</td>\n",
       "      <td>55342.00</td>\n",
       "      <td>72357.0</td>\n",
       "      <td>DebtCon</td>\n",
       "      <td>Mgr</td>\n",
       "      <td>7.0</td>\n",
       "      <td>NaN</td>\n",
       "      <td>3.0</td>\n",
       "      <td>111.998855</td>\n",
       "      <td>1.0</td>\n",
       "      <td>11.0</td>\n",
       "      <td>39.870340</td>\n",
       "      <td>0</td>\n",
       "    </tr>\n",
       "    <tr>\n",
       "      <th>920</th>\n",
       "      <td>9000</td>\n",
       "      <td>47350.86</td>\n",
       "      <td>105000.0</td>\n",
       "      <td>DebtCon</td>\n",
       "      <td>ProfExe</td>\n",
       "      <td>6.0</td>\n",
       "      <td>0.0</td>\n",
       "      <td>1.0</td>\n",
       "      <td>227.266667</td>\n",
       "      <td>0.0</td>\n",
       "      <td>10.0</td>\n",
       "      <td>NaN</td>\n",
       "      <td>0</td>\n",
       "    </tr>\n",
       "  </tbody>\n",
       "</table>\n",
       "</div>"
      ],
      "text/plain": [
       "       LOAN   MORTDUE     VALUE   REASON      JOB  YOJ  DEROG  DELINQ  \\\n",
       "609    7700  70451.00   81862.0  DebtCon    Sales  3.0    0.0     0.0   \n",
       "4015  21000  48735.00   71694.0  DebtCon    Other  8.0    0.0     0.0   \n",
       "1591  11500  63136.00   81099.0  DebtCon    Other  3.0    NaN     NaN   \n",
       "1127   9900  55342.00   72357.0  DebtCon      Mgr  7.0    NaN     3.0   \n",
       "920    9000  47350.86  105000.0  DebtCon  ProfExe  6.0    0.0     1.0   \n",
       "\n",
       "           CLAGE  NINQ  CLNO    DEBTINC  BAD  \n",
       "609   141.268671   0.0  31.0  31.681943    0  \n",
       "4015   48.498971   3.0  10.0  32.921401    1  \n",
       "1591  149.064745   NaN  35.0  28.975940    0  \n",
       "1127  111.998855   1.0  11.0  39.870340    0  \n",
       "920   227.266667   0.0  10.0        NaN    0  "
      ]
     },
     "execution_count": 39,
     "metadata": {},
     "output_type": "execute_result"
    }
   ],
   "source": [
    "# Unir x_train y y_train en un único dataframe\n",
    "train_df = pd.concat([X_train, pd.DataFrame(y_train)], axis=1)\n",
    "train_df.head()"
   ]
  },
  {
   "cell_type": "markdown",
   "metadata": {},
   "source": [
    "### Data Wrangling + Análisis Exploratorio de Datos (EDA)"
   ]
  },
  {
   "cell_type": "markdown",
   "metadata": {},
   "source": [
    "En esta sección prepararemos, limpiaremos y unificaremos los datos. Trataremos los outliers para facilitar el análisis y el modelado en profundidad."
   ]
  },
  {
   "cell_type": "markdown",
   "metadata": {},
   "source": [
    "#### *Análisis de variables categóricas*"
   ]
  },
  {
   "cell_type": "code",
   "execution_count": 40,
   "metadata": {},
   "outputs": [
    {
     "name": "stdout",
     "output_type": "stream",
     "text": [
      "Los valores únicos de la variable REASON son ['DebtCon' 'HomeImp' nan]\n",
      "Los valores únicos de la variable JOB son ['Sales' 'Other' 'Mgr' 'ProfExe' 'Self' 'Office' nan]\n"
     ]
    }
   ],
   "source": [
    "# Indagar los valores únicos de las variables categóricas 'REASON' Y 'JOB'\n",
    "print('Los valores únicos de la variable REASON son ' + str(train_df['REASON'].unique()))\n",
    "print('Los valores únicos de la variable JOB son ' + str(train_df['JOB'].unique()))"
   ]
  },
  {
   "cell_type": "code",
   "execution_count": 41,
   "metadata": {},
   "outputs": [
    {
     "data": {
      "text/plain": [
       "BAD  REASON \n",
       "0    DebtCon    2534\n",
       "     HomeImp    1123\n",
       "     NaN         160\n",
       "1    DebtCon     594\n",
       "     HomeImp     322\n",
       "     NaN          35\n",
       "Name: REASON, dtype: int64"
      ]
     },
     "execution_count": 41,
     "metadata": {},
     "output_type": "execute_result"
    }
   ],
   "source": [
    "# Mostrar la cantidad de registros correspondientes a la variable categórica 'REASON' en relación a la variable target'BAD'\n",
    "train_df.groupby('BAD')['REASON'].value_counts(dropna=False)"
   ]
  },
  {
   "cell_type": "code",
   "execution_count": 42,
   "metadata": {},
   "outputs": [],
   "source": [
    "# Reemplazar los valores nulos declarándolos valores desconocidos\n",
    "train_df[\"REASON\"].fillna('ReasonUnknown',inplace=True)\n",
    "train_df[\"JOB\"].fillna('JobUnknown',inplace=True)"
   ]
  },
  {
   "cell_type": "code",
   "execution_count": 43,
   "metadata": {},
   "outputs": [
    {
     "data": {
      "image/png": "[encoded data removed]",
      "text/plain": [
       "<Figure size 1080x576 with 1 Axes>"
      ]
     },
     "metadata": {},
     "output_type": "display_data"
    }
   ],
   "source": [
    "# Mostrar los resultados en un bar plot\n",
    "def percentage_above_bar_relative_to_xgroup(ax):\n",
    "    all_heights = [[p.get_height() for p in bars] for bars in ax.containers]\n",
    "    for bars in ax.containers:\n",
    "        for i, p in enumerate(bars):\n",
    "            total = sum(xgroup[i] for xgroup in all_heights)\n",
    "            percentage = f'{(100 * p.get_height() / total) :.1f}%'\n",
    "            ax.annotate(percentage, (p.get_x() + p.get_width() / 2, p.get_height()), size=11, ha='center', va='bottom')\n",
    "\n",
    "ax = sns.countplot(x=\"REASON\", \n",
    "                   hue=\"BAD\", \n",
    "                   data=train_df)\n",
    "ax.set(xlabel='Razón para solicitar el préstamo',\n",
    "       ylabel='Número de observaciones',\n",
    "       title = 'Relación entre categoría de prestamista y sus motivos')\n",
    "\n",
    "percentage_above_bar_relative_to_xgroup(ax)\n",
    "plt.show()"
   ]
  },
  {
   "cell_type": "markdown",
   "metadata": {},
   "source": [
    "Según la variable 'REASON', 'DebtCon' (consolidación de deudas) es el motivo principal para solicitar un préstamo, entre quienes pagan o no sus deudas. A partir de la muestra, inferimos que si la razón es 'HomeImp' (mejoras del hogar), la diferencia entre quienes pagan y no pagan disminuye."
   ]
  },
  {
   "cell_type": "code",
   "execution_count": 44,
   "metadata": {},
   "outputs": [
    {
     "data": {
      "text/plain": [
       "BAD  JOB       \n",
       "0    Other         1479\n",
       "     ProfExe        839\n",
       "     Office         654\n",
       "     Mgr            467\n",
       "     JobUnknown     213\n",
       "     Self           106\n",
       "     Sales           59\n",
       "1    Other          458\n",
       "     ProfExe        167\n",
       "     Mgr            139\n",
       "     Office          93\n",
       "     Self            44\n",
       "     Sales           33\n",
       "     JobUnknown      17\n",
       "Name: JOB, dtype: int64"
      ]
     },
     "execution_count": 44,
     "metadata": {},
     "output_type": "execute_result"
    }
   ],
   "source": [
    "# Mostrar la cantidad de registros correspondientes a la variable categórica 'JOB' en relación a la variable target 'BAD' \n",
    "train_df.groupby('BAD')['JOB'].value_counts(dropna=False)"
   ]
  },
  {
   "cell_type": "code",
   "execution_count": 45,
   "metadata": {},
   "outputs": [
    {
     "data": {
      "image/png": "[encoded data removed]",
      "text/plain": [
       "<Figure size 1080x576 with 1 Axes>"
      ]
     },
     "metadata": {},
     "output_type": "display_data"
    }
   ],
   "source": [
    "# Mostrar los resultados en un bar plot\n",
    "def percentage_above_bar_relative_to_xgroup(ax):\n",
    "    all_heights = [[p.get_height() for p in bars] for bars in ax.containers]\n",
    "    for bars in ax.containers:\n",
    "        for i, p in enumerate(bars):\n",
    "            total = sum(xgroup[i] for xgroup in all_heights)\n",
    "            percentage = f'{(100 * p.get_height() / total) :.1f}%'\n",
    "            ax.annotate(percentage, (p.get_x() + p.get_width() / 2, p.get_height()), size=11, ha='center', va='bottom')\n",
    "\n",
    "ax = sns.countplot(x=\"JOB\", hue=\"BAD\", data=train_df)\n",
    "ax.set(xlabel='Profesión',\n",
    "       ylabel='Número de observaciones',\n",
    "       title = 'Relación entre categoría de prestamista y su profesión')\n",
    "\n",
    "percentage_above_bar_relative_to_xgroup(ax)\n",
    "plt.show()"
   ]
  },
  {
   "cell_type": "markdown",
   "metadata": {},
   "source": [
    "Según la variable 'JOB', y teniendo en cuenta la diferencia dentro de cada categoría, inferimos que la diferencia es poca entre quienes tienen su hipoteca al día y quienes no entre los profesionales de 'Sales' (Ventas) y 'Self' (Autónomos)."
   ]
  },
  {
   "cell_type": "code",
   "execution_count": 46,
   "metadata": {},
   "outputs": [],
   "source": [
    "# Transformar 'JOB' y 'REASON' de variables categóricas a variables numéricas\n",
    "train_df = train_df.join(pd.get_dummies(train_df[\"JOB\"]))\n",
    "train_df = train_df.join(pd.get_dummies(train_df[\"REASON\"]))\n",
    "train_df.drop([\"JOB\",\"REASON\"],axis=1,inplace=True)"
   ]
  },
  {
   "cell_type": "markdown",
   "metadata": {},
   "source": [
    "#### *Análisis de variables numéricas*"
   ]
  },
  {
   "cell_type": "code",
   "execution_count": 47,
   "metadata": {},
   "outputs": [
    {
     "data": {
      "text/plain": [
       "609     11.772389\n",
       "4015     4.041581\n",
       "1591    12.422062\n",
       "1127     9.333238\n",
       "920     18.938889\n",
       "          ...    \n",
       "3287    14.791667\n",
       "4301     2.597391\n",
       "2821    26.317719\n",
       "1167    16.063889\n",
       "2       12.455556\n",
       "Name: CLAGE, Length: 4768, dtype: float64"
      ]
     },
     "execution_count": 47,
     "metadata": {},
     "output_type": "execute_result"
    }
   ],
   "source": [
    "# Pasar la variable 'CLAGE' de meses a años para igualar con la unidad de medida de 'YOJ'\n",
    "train_df['CLAGE'] = train_df['CLAGE'].div(12)\n",
    "train_df['CLAGE']"
   ]
  },
  {
   "cell_type": "markdown",
   "metadata": {},
   "source": [
    "##### *Estadísticas descriptivas de candidatos con préstamos pagados*"
   ]
  },
  {
   "cell_type": "code",
   "execution_count": 48,
   "metadata": {},
   "outputs": [
    {
     "data": {
      "text/html": [
       "<div>\n",
       "<style scoped>\n",
       "    .dataframe tbody tr th:only-of-type {\n",
       "        vertical-align: middle;\n",
       "    }\n",
       "\n",
       "    .dataframe tbody tr th {\n",
       "        vertical-align: top;\n",
       "    }\n",
       "\n",
       "    .dataframe thead th {\n",
       "        text-align: right;\n",
       "    }\n",
       "</style>\n",
       "<table border=\"1\" class=\"dataframe\">\n",
       "  <thead>\n",
       "    <tr style=\"text-align: right;\">\n",
       "      <th></th>\n",
       "      <th>LOAN</th>\n",
       "      <th>MORTDUE</th>\n",
       "      <th>VALUE</th>\n",
       "      <th>YOJ</th>\n",
       "      <th>DEROG</th>\n",
       "      <th>DELINQ</th>\n",
       "      <th>CLAGE</th>\n",
       "      <th>NINQ</th>\n",
       "      <th>CLNO</th>\n",
       "      <th>DEBTINC</th>\n",
       "      <th>JobUnknown</th>\n",
       "      <th>Mgr</th>\n",
       "      <th>Office</th>\n",
       "      <th>Other</th>\n",
       "      <th>ProfExe</th>\n",
       "      <th>Sales</th>\n",
       "      <th>Self</th>\n",
       "      <th>DebtCon</th>\n",
       "      <th>HomeImp</th>\n",
       "      <th>ReasonUnknown</th>\n",
       "    </tr>\n",
       "  </thead>\n",
       "  <tbody>\n",
       "    <tr>\n",
       "      <th>count</th>\n",
       "      <td>3817.0000</td>\n",
       "      <td>3480.0000</td>\n",
       "      <td>3811.0000</td>\n",
       "      <td>3466.0000</td>\n",
       "      <td>3303.0000</td>\n",
       "      <td>3407.0000</td>\n",
       "      <td>3625.0000</td>\n",
       "      <td>3467.0000</td>\n",
       "      <td>3679.0000</td>\n",
       "      <td>3434.0000</td>\n",
       "      <td>3817.0000</td>\n",
       "      <td>3817.0000</td>\n",
       "      <td>3817.0000</td>\n",
       "      <td>3817.0000</td>\n",
       "      <td>3817.0000</td>\n",
       "      <td>3817.0000</td>\n",
       "      <td>3817.0000</td>\n",
       "      <td>3817.0000</td>\n",
       "      <td>3817.0000</td>\n",
       "      <td>3817.0000</td>\n",
       "    </tr>\n",
       "    <tr>\n",
       "      <th>mean</th>\n",
       "      <td>19016.4527</td>\n",
       "      <td>75237.9798</td>\n",
       "      <td>103011.4014</td>\n",
       "      <td>9.1132</td>\n",
       "      <td>0.1353</td>\n",
       "      <td>0.2480</td>\n",
       "      <td>15.5828</td>\n",
       "      <td>1.0430</td>\n",
       "      <td>21.2900</td>\n",
       "      <td>33.2830</td>\n",
       "      <td>0.0558</td>\n",
       "      <td>0.1223</td>\n",
       "      <td>0.1713</td>\n",
       "      <td>0.3875</td>\n",
       "      <td>0.2198</td>\n",
       "      <td>0.0155</td>\n",
       "      <td>0.0278</td>\n",
       "      <td>0.6639</td>\n",
       "      <td>0.2942</td>\n",
       "      <td>0.0419</td>\n",
       "    </tr>\n",
       "    <tr>\n",
       "      <th>std</th>\n",
       "      <td>11216.7812</td>\n",
       "      <td>44125.3172</td>\n",
       "      <td>53671.7246</td>\n",
       "      <td>7.6970</td>\n",
       "      <td>0.5181</td>\n",
       "      <td>0.6797</td>\n",
       "      <td>7.0116</td>\n",
       "      <td>1.5367</td>\n",
       "      <td>9.7419</td>\n",
       "      <td>6.8610</td>\n",
       "      <td>0.2296</td>\n",
       "      <td>0.3277</td>\n",
       "      <td>0.3769</td>\n",
       "      <td>0.4872</td>\n",
       "      <td>0.4142</td>\n",
       "      <td>0.1234</td>\n",
       "      <td>0.1643</td>\n",
       "      <td>0.4724</td>\n",
       "      <td>0.4557</td>\n",
       "      <td>0.2004</td>\n",
       "    </tr>\n",
       "    <tr>\n",
       "      <th>min</th>\n",
       "      <td>1700.0000</td>\n",
       "      <td>2619.0000</td>\n",
       "      <td>8000.0000</td>\n",
       "      <td>0.0000</td>\n",
       "      <td>0.0000</td>\n",
       "      <td>0.0000</td>\n",
       "      <td>0.0406</td>\n",
       "      <td>0.0000</td>\n",
       "      <td>0.0000</td>\n",
       "      <td>0.7203</td>\n",
       "      <td>0.0000</td>\n",
       "      <td>0.0000</td>\n",
       "      <td>0.0000</td>\n",
       "      <td>0.0000</td>\n",
       "      <td>0.0000</td>\n",
       "      <td>0.0000</td>\n",
       "      <td>0.0000</td>\n",
       "      <td>0.0000</td>\n",
       "      <td>0.0000</td>\n",
       "      <td>0.0000</td>\n",
       "    </tr>\n",
       "    <tr>\n",
       "      <th>25%</th>\n",
       "      <td>11600.0000</td>\n",
       "      <td>47674.2500</td>\n",
       "      <td>67955.0000</td>\n",
       "      <td>3.0000</td>\n",
       "      <td>0.0000</td>\n",
       "      <td>0.0000</td>\n",
       "      <td>10.0443</td>\n",
       "      <td>0.0000</td>\n",
       "      <td>15.0000</td>\n",
       "      <td>29.0219</td>\n",
       "      <td>0.0000</td>\n",
       "      <td>0.0000</td>\n",
       "      <td>0.0000</td>\n",
       "      <td>0.0000</td>\n",
       "      <td>0.0000</td>\n",
       "      <td>0.0000</td>\n",
       "      <td>0.0000</td>\n",
       "      <td>0.0000</td>\n",
       "      <td>0.0000</td>\n",
       "      <td>0.0000</td>\n",
       "    </tr>\n",
       "    <tr>\n",
       "      <th>50%</th>\n",
       "      <td>16800.0000</td>\n",
       "      <td>66916.5000</td>\n",
       "      <td>90555.0000</td>\n",
       "      <td>7.0000</td>\n",
       "      <td>0.0000</td>\n",
       "      <td>0.0000</td>\n",
       "      <td>15.0707</td>\n",
       "      <td>1.0000</td>\n",
       "      <td>20.0000</td>\n",
       "      <td>34.5363</td>\n",
       "      <td>0.0000</td>\n",
       "      <td>0.0000</td>\n",
       "      <td>0.0000</td>\n",
       "      <td>0.0000</td>\n",
       "      <td>0.0000</td>\n",
       "      <td>0.0000</td>\n",
       "      <td>0.0000</td>\n",
       "      <td>1.0000</td>\n",
       "      <td>0.0000</td>\n",
       "      <td>0.0000</td>\n",
       "    </tr>\n",
       "    <tr>\n",
       "      <th>75%</th>\n",
       "      <td>23600.0000</td>\n",
       "      <td>93416.7500</td>\n",
       "      <td>120713.0000</td>\n",
       "      <td>13.0000</td>\n",
       "      <td>0.0000</td>\n",
       "      <td>0.0000</td>\n",
       "      <td>19.9281</td>\n",
       "      <td>2.0000</td>\n",
       "      <td>26.0000</td>\n",
       "      <td>38.7154</td>\n",
       "      <td>0.0000</td>\n",
       "      <td>0.0000</td>\n",
       "      <td>0.0000</td>\n",
       "      <td>1.0000</td>\n",
       "      <td>0.0000</td>\n",
       "      <td>0.0000</td>\n",
       "      <td>0.0000</td>\n",
       "      <td>1.0000</td>\n",
       "      <td>1.0000</td>\n",
       "      <td>0.0000</td>\n",
       "    </tr>\n",
       "    <tr>\n",
       "      <th>max</th>\n",
       "      <td>89900.0000</td>\n",
       "      <td>371003.0000</td>\n",
       "      <td>471827.0000</td>\n",
       "      <td>36.0000</td>\n",
       "      <td>6.0000</td>\n",
       "      <td>5.0000</td>\n",
       "      <td>54.1456</td>\n",
       "      <td>11.0000</td>\n",
       "      <td>56.0000</td>\n",
       "      <td>45.5698</td>\n",
       "      <td>1.0000</td>\n",
       "      <td>1.0000</td>\n",
       "      <td>1.0000</td>\n",
       "      <td>1.0000</td>\n",
       "      <td>1.0000</td>\n",
       "      <td>1.0000</td>\n",
       "      <td>1.0000</td>\n",
       "      <td>1.0000</td>\n",
       "      <td>1.0000</td>\n",
       "      <td>1.0000</td>\n",
       "    </tr>\n",
       "  </tbody>\n",
       "</table>\n",
       "</div>"
      ],
      "text/plain": [
       "             LOAN      MORTDUE        VALUE        YOJ      DEROG     DELINQ  \\\n",
       "count   3817.0000    3480.0000    3811.0000  3466.0000  3303.0000  3407.0000   \n",
       "mean   19016.4527   75237.9798  103011.4014     9.1132     0.1353     0.2480   \n",
       "std    11216.7812   44125.3172   53671.7246     7.6970     0.5181     0.6797   \n",
       "min     1700.0000    2619.0000    8000.0000     0.0000     0.0000     0.0000   \n",
       "25%    11600.0000   47674.2500   67955.0000     3.0000     0.0000     0.0000   \n",
       "50%    16800.0000   66916.5000   90555.0000     7.0000     0.0000     0.0000   \n",
       "75%    23600.0000   93416.7500  120713.0000    13.0000     0.0000     0.0000   \n",
       "max    89900.0000  371003.0000  471827.0000    36.0000     6.0000     5.0000   \n",
       "\n",
       "           CLAGE       NINQ       CLNO    DEBTINC  JobUnknown        Mgr  \\\n",
       "count  3625.0000  3467.0000  3679.0000  3434.0000   3817.0000  3817.0000   \n",
       "mean     15.5828     1.0430    21.2900    33.2830      0.0558     0.1223   \n",
       "std       7.0116     1.5367     9.7419     6.8610      0.2296     0.3277   \n",
       "min       0.0406     0.0000     0.0000     0.7203      0.0000     0.0000   \n",
       "25%      10.0443     0.0000    15.0000    29.0219      0.0000     0.0000   \n",
       "50%      15.0707     1.0000    20.0000    34.5363      0.0000     0.0000   \n",
       "75%      19.9281     2.0000    26.0000    38.7154      0.0000     0.0000   \n",
       "max      54.1456    11.0000    56.0000    45.5698      1.0000     1.0000   \n",
       "\n",
       "          Office      Other    ProfExe      Sales       Self    DebtCon  \\\n",
       "count  3817.0000  3817.0000  3817.0000  3817.0000  3817.0000  3817.0000   \n",
       "mean      0.1713     0.3875     0.2198     0.0155     0.0278     0.6639   \n",
       "std       0.3769     0.4872     0.4142     0.1234     0.1643     0.4724   \n",
       "min       0.0000     0.0000     0.0000     0.0000     0.0000     0.0000   \n",
       "25%       0.0000     0.0000     0.0000     0.0000     0.0000     0.0000   \n",
       "50%       0.0000     0.0000     0.0000     0.0000     0.0000     1.0000   \n",
       "75%       0.0000     1.0000     0.0000     0.0000     0.0000     1.0000   \n",
       "max       1.0000     1.0000     1.0000     1.0000     1.0000     1.0000   \n",
       "\n",
       "         HomeImp  ReasonUnknown  \n",
       "count  3817.0000      3817.0000  \n",
       "mean      0.2942         0.0419  \n",
       "std       0.4557         0.2004  \n",
       "min       0.0000         0.0000  \n",
       "25%       0.0000         0.0000  \n",
       "50%       0.0000         0.0000  \n",
       "75%       1.0000         0.0000  \n",
       "max       1.0000         1.0000  "
      ]
     },
     "execution_count": 48,
     "metadata": {},
     "output_type": "execute_result"
    }
   ],
   "source": [
    "# Filtrar los préstamos pagados a partir de la variable 'BAD'\n",
    "train_df[train_df['BAD']==0].drop(['BAD'], axis=1).describe().round(4)"
   ]
  },
  {
   "cell_type": "markdown",
   "metadata": {},
   "source": [
    "##### *Estadísticas descriptivas de candidatos con préstamos morosos*"
   ]
  },
  {
   "cell_type": "code",
   "execution_count": 49,
   "metadata": {},
   "outputs": [
    {
     "data": {
      "text/html": [
       "<div>\n",
       "<style scoped>\n",
       "    .dataframe tbody tr th:only-of-type {\n",
       "        vertical-align: middle;\n",
       "    }\n",
       "\n",
       "    .dataframe tbody tr th {\n",
       "        vertical-align: top;\n",
       "    }\n",
       "\n",
       "    .dataframe thead th {\n",
       "        text-align: right;\n",
       "    }\n",
       "</style>\n",
       "<table border=\"1\" class=\"dataframe\">\n",
       "  <thead>\n",
       "    <tr style=\"text-align: right;\">\n",
       "      <th></th>\n",
       "      <th>LOAN</th>\n",
       "      <th>MORTDUE</th>\n",
       "      <th>VALUE</th>\n",
       "      <th>YOJ</th>\n",
       "      <th>DEROG</th>\n",
       "      <th>DELINQ</th>\n",
       "      <th>CLAGE</th>\n",
       "      <th>NINQ</th>\n",
       "      <th>CLNO</th>\n",
       "      <th>DEBTINC</th>\n",
       "      <th>JobUnknown</th>\n",
       "      <th>Mgr</th>\n",
       "      <th>Office</th>\n",
       "      <th>Other</th>\n",
       "      <th>ProfExe</th>\n",
       "      <th>Sales</th>\n",
       "      <th>Self</th>\n",
       "      <th>DebtCon</th>\n",
       "      <th>HomeImp</th>\n",
       "      <th>ReasonUnknown</th>\n",
       "    </tr>\n",
       "  </thead>\n",
       "  <tbody>\n",
       "    <tr>\n",
       "      <th>count</th>\n",
       "      <td>951.0000</td>\n",
       "      <td>867.0000</td>\n",
       "      <td>868.0000</td>\n",
       "      <td>899.0000</td>\n",
       "      <td>877.0000</td>\n",
       "      <td>889.0000</td>\n",
       "      <td>884.0000</td>\n",
       "      <td>887.0000</td>\n",
       "      <td>905.0000</td>\n",
       "      <td>329.0000</td>\n",
       "      <td>951.0000</td>\n",
       "      <td>951.0000</td>\n",
       "      <td>951.0000</td>\n",
       "      <td>951.0000</td>\n",
       "      <td>951.0000</td>\n",
       "      <td>951.0000</td>\n",
       "      <td>951.0000</td>\n",
       "      <td>951.0000</td>\n",
       "      <td>951.0000</td>\n",
       "      <td>951.0000</td>\n",
       "    </tr>\n",
       "    <tr>\n",
       "      <th>mean</th>\n",
       "      <td>16587.0662</td>\n",
       "      <td>67420.6777</td>\n",
       "      <td>95618.8549</td>\n",
       "      <td>8.1424</td>\n",
       "      <td>0.7138</td>\n",
       "      <td>1.2565</td>\n",
       "      <td>12.3984</td>\n",
       "      <td>1.7587</td>\n",
       "      <td>21.2254</td>\n",
       "      <td>38.7484</td>\n",
       "      <td>0.0179</td>\n",
       "      <td>0.1462</td>\n",
       "      <td>0.0978</td>\n",
       "      <td>0.4816</td>\n",
       "      <td>0.1756</td>\n",
       "      <td>0.0347</td>\n",
       "      <td>0.0463</td>\n",
       "      <td>0.6246</td>\n",
       "      <td>0.3386</td>\n",
       "      <td>0.0368</td>\n",
       "    </tr>\n",
       "    <tr>\n",
       "      <th>std</th>\n",
       "      <td>11081.9650</td>\n",
       "      <td>44226.2662</td>\n",
       "      <td>69354.4040</td>\n",
       "      <td>7.1805</td>\n",
       "      <td>1.4701</td>\n",
       "      <td>1.9526</td>\n",
       "      <td>7.3218</td>\n",
       "      <td>2.2296</td>\n",
       "      <td>12.0121</td>\n",
       "      <td>16.5307</td>\n",
       "      <td>0.1326</td>\n",
       "      <td>0.3535</td>\n",
       "      <td>0.2972</td>\n",
       "      <td>0.4999</td>\n",
       "      <td>0.3807</td>\n",
       "      <td>0.1831</td>\n",
       "      <td>0.2102</td>\n",
       "      <td>0.4845</td>\n",
       "      <td>0.4735</td>\n",
       "      <td>0.1884</td>\n",
       "    </tr>\n",
       "    <tr>\n",
       "      <th>min</th>\n",
       "      <td>1100.0000</td>\n",
       "      <td>2063.0000</td>\n",
       "      <td>8800.0000</td>\n",
       "      <td>0.0000</td>\n",
       "      <td>0.0000</td>\n",
       "      <td>0.0000</td>\n",
       "      <td>0.0000</td>\n",
       "      <td>0.0000</td>\n",
       "      <td>0.0000</td>\n",
       "      <td>0.5245</td>\n",
       "      <td>0.0000</td>\n",
       "      <td>0.0000</td>\n",
       "      <td>0.0000</td>\n",
       "      <td>0.0000</td>\n",
       "      <td>0.0000</td>\n",
       "      <td>0.0000</td>\n",
       "      <td>0.0000</td>\n",
       "      <td>0.0000</td>\n",
       "      <td>0.0000</td>\n",
       "      <td>0.0000</td>\n",
       "    </tr>\n",
       "    <tr>\n",
       "      <th>25%</th>\n",
       "      <td>9300.0000</td>\n",
       "      <td>38850.0000</td>\n",
       "      <td>58998.7500</td>\n",
       "      <td>2.0000</td>\n",
       "      <td>0.0000</td>\n",
       "      <td>0.0000</td>\n",
       "      <td>7.8947</td>\n",
       "      <td>0.0000</td>\n",
       "      <td>13.0000</td>\n",
       "      <td>31.9837</td>\n",
       "      <td>0.0000</td>\n",
       "      <td>0.0000</td>\n",
       "      <td>0.0000</td>\n",
       "      <td>0.0000</td>\n",
       "      <td>0.0000</td>\n",
       "      <td>0.0000</td>\n",
       "      <td>0.0000</td>\n",
       "      <td>0.0000</td>\n",
       "      <td>0.0000</td>\n",
       "      <td>0.0000</td>\n",
       "    </tr>\n",
       "    <tr>\n",
       "      <th>50%</th>\n",
       "      <td>14600.0000</td>\n",
       "      <td>59543.0000</td>\n",
       "      <td>81209.5000</td>\n",
       "      <td>6.0000</td>\n",
       "      <td>0.0000</td>\n",
       "      <td>0.0000</td>\n",
       "      <td>10.8472</td>\n",
       "      <td>1.0000</td>\n",
       "      <td>20.0000</td>\n",
       "      <td>38.0149</td>\n",
       "      <td>0.0000</td>\n",
       "      <td>0.0000</td>\n",
       "      <td>0.0000</td>\n",
       "      <td>0.0000</td>\n",
       "      <td>0.0000</td>\n",
       "      <td>0.0000</td>\n",
       "      <td>0.0000</td>\n",
       "      <td>1.0000</td>\n",
       "      <td>0.0000</td>\n",
       "      <td>0.0000</td>\n",
       "    </tr>\n",
       "    <tr>\n",
       "      <th>75%</th>\n",
       "      <td>21000.0000</td>\n",
       "      <td>84871.5000</td>\n",
       "      <td>115762.5000</td>\n",
       "      <td>12.0000</td>\n",
       "      <td>1.0000</td>\n",
       "      <td>2.0000</td>\n",
       "      <td>15.8847</td>\n",
       "      <td>2.5000</td>\n",
       "      <td>28.0000</td>\n",
       "      <td>43.1599</td>\n",
       "      <td>0.0000</td>\n",
       "      <td>0.0000</td>\n",
       "      <td>0.0000</td>\n",
       "      <td>1.0000</td>\n",
       "      <td>0.0000</td>\n",
       "      <td>0.0000</td>\n",
       "      <td>0.0000</td>\n",
       "      <td>1.0000</td>\n",
       "      <td>1.0000</td>\n",
       "      <td>0.0000</td>\n",
       "    </tr>\n",
       "    <tr>\n",
       "      <th>max</th>\n",
       "      <td>77400.0000</td>\n",
       "      <td>399550.0000</td>\n",
       "      <td>855909.0000</td>\n",
       "      <td>41.0000</td>\n",
       "      <td>10.0000</td>\n",
       "      <td>15.0000</td>\n",
       "      <td>97.3528</td>\n",
       "      <td>17.0000</td>\n",
       "      <td>71.0000</td>\n",
       "      <td>203.3121</td>\n",
       "      <td>1.0000</td>\n",
       "      <td>1.0000</td>\n",
       "      <td>1.0000</td>\n",
       "      <td>1.0000</td>\n",
       "      <td>1.0000</td>\n",
       "      <td>1.0000</td>\n",
       "      <td>1.0000</td>\n",
       "      <td>1.0000</td>\n",
       "      <td>1.0000</td>\n",
       "      <td>1.0000</td>\n",
       "    </tr>\n",
       "  </tbody>\n",
       "</table>\n",
       "</div>"
      ],
      "text/plain": [
       "             LOAN      MORTDUE        VALUE       YOJ     DEROG    DELINQ  \\\n",
       "count    951.0000     867.0000     868.0000  899.0000  877.0000  889.0000   \n",
       "mean   16587.0662   67420.6777   95618.8549    8.1424    0.7138    1.2565   \n",
       "std    11081.9650   44226.2662   69354.4040    7.1805    1.4701    1.9526   \n",
       "min     1100.0000    2063.0000    8800.0000    0.0000    0.0000    0.0000   \n",
       "25%     9300.0000   38850.0000   58998.7500    2.0000    0.0000    0.0000   \n",
       "50%    14600.0000   59543.0000   81209.5000    6.0000    0.0000    0.0000   \n",
       "75%    21000.0000   84871.5000  115762.5000   12.0000    1.0000    2.0000   \n",
       "max    77400.0000  399550.0000  855909.0000   41.0000   10.0000   15.0000   \n",
       "\n",
       "          CLAGE      NINQ      CLNO   DEBTINC  JobUnknown       Mgr    Office  \\\n",
       "count  884.0000  887.0000  905.0000  329.0000    951.0000  951.0000  951.0000   \n",
       "mean    12.3984    1.7587   21.2254   38.7484      0.0179    0.1462    0.0978   \n",
       "std      7.3218    2.2296   12.0121   16.5307      0.1326    0.3535    0.2972   \n",
       "min      0.0000    0.0000    0.0000    0.5245      0.0000    0.0000    0.0000   \n",
       "25%      7.8947    0.0000   13.0000   31.9837      0.0000    0.0000    0.0000   \n",
       "50%     10.8472    1.0000   20.0000   38.0149      0.0000    0.0000    0.0000   \n",
       "75%     15.8847    2.5000   28.0000   43.1599      0.0000    0.0000    0.0000   \n",
       "max     97.3528   17.0000   71.0000  203.3121      1.0000    1.0000    1.0000   \n",
       "\n",
       "          Other   ProfExe     Sales      Self   DebtCon   HomeImp  \\\n",
       "count  951.0000  951.0000  951.0000  951.0000  951.0000  951.0000   \n",
       "mean     0.4816    0.1756    0.0347    0.0463    0.6246    0.3386   \n",
       "std      0.4999    0.3807    0.1831    0.2102    0.4845    0.4735   \n",
       "min      0.0000    0.0000    0.0000    0.0000    0.0000    0.0000   \n",
       "25%      0.0000    0.0000    0.0000    0.0000    0.0000    0.0000   \n",
       "50%      0.0000    0.0000    0.0000    0.0000    1.0000    0.0000   \n",
       "75%      1.0000    0.0000    0.0000    0.0000    1.0000    1.0000   \n",
       "max      1.0000    1.0000    1.0000    1.0000    1.0000    1.0000   \n",
       "\n",
       "       ReasonUnknown  \n",
       "count       951.0000  \n",
       "mean          0.0368  \n",
       "std           0.1884  \n",
       "min           0.0000  \n",
       "25%           0.0000  \n",
       "50%           0.0000  \n",
       "75%           0.0000  \n",
       "max           1.0000  "
      ]
     },
     "execution_count": 49,
     "metadata": {},
     "output_type": "execute_result"
    }
   ],
   "source": [
    "#Filtrar los préstamos morosos a partir de la variable 'BAD'\n",
    "train_df[train_df['BAD']==1].drop(['BAD'], axis=1).describe().round(4)"
   ]
  },
  {
   "cell_type": "markdown",
   "metadata": {},
   "source": [
    "De las estadísticas descriptivas se pueden comenzar a perfilar algunas definiciones:\n",
    "\n",
    "- La media de las variables en USD 'LOAN', 'MORTDUE' y 'VALUE' es mayor en las muestras de préstamos PAGADOS.\n",
    "- Como es esperable, la media de la variable 'DEBTINC' (ratio de deuda-ingresos) es mayor en el caso de préstamos MOROSOS, con un posible Outlier de 203.3121.\n",
    "- La media de las variables relacionadas con el historial crediticio de la persona que solicita el préstamo, que incluye 'DEROG', 'DELINQ' y 'NINQ', es mayor en el caso de los préstamos MOROSOS.\n",
    "- La media de la variable 'CLNO' (líneas de crédito abiertas) es similar en ambos casos."
   ]
  },
  {
   "cell_type": "markdown",
   "metadata": {},
   "source": [
    "#### *Visualización de variables*"
   ]
  },
  {
   "cell_type": "code",
   "execution_count": 50,
   "metadata": {},
   "outputs": [
    {
     "data": {
      "image/png": "[encoded data removed]",
      "text/plain": [
       "<Figure size 1800x1440 with 20 Axes>"
      ]
     },
     "metadata": {},
     "output_type": "display_data"
    }
   ],
   "source": [
    "fig, axes = plt.subplots(5, 4, figsize=(25, 20),)\n",
    "for i,ax in zip(train_df.columns,axes.flat):\n",
    "    sns.boxplot(data=train_df, x=i,ax=ax)\n",
    "plt.subplots_adjust(wspace=0.2, hspace=0.5)\n",
    "plt.show()"
   ]
  },
  {
   "cell_type": "code",
   "execution_count": 52,
   "metadata": {},
   "outputs": [
    {
     "data": {
      "text/plain": [
       "<AxesSubplot:>"
      ]
     },
     "execution_count": 52,
     "metadata": {},
     "output_type": "execute_result"
    },
    {
     "data": {
      "image/png": "[encoded data removed]",
      "text/plain": [
       "<Figure size 1080x576 with 2 Axes>"
      ]
     },
     "metadata": {},
     "output_type": "display_data"
    }
   ],
   "source": [
    "#Mapa de Correlación\n",
    "upp_mat = np.triu(train_df.corr())\n",
    "\n",
    "sns.heatmap(train_df.corr(), vmin = -1, vmax = +1, annot = True, cmap = 'coolwarm', mask = upp_mat)"
   ]
  },
  {
   "cell_type": "markdown",
   "metadata": {},
   "source": [
    "El mapa de correlaciones puede indicar una relación predictiva a ser explotada en el modelo de clasificación. Los colores más fríos corresponden a una baja correlación, los más cálidos corresponden a una alta correlación. \n",
    "\n",
    "Las variables relacionadas con el historial crediticio ('DELINQ', 'DEROG', 'NINQ') son las más correlacionadas con la variable target ('BAD'). Es un indicio de que éstas serán las variables de clasificación. Estas variables también están ligeramente correlacionadas entre sí sugiriendo que la información podría ser redundante.\n",
    "\n",
    "El monto adeudado de la hipoteca existente ('MORTDUE') o el valor de la garantía subyacente ('VALUE') no parecen estar relacionados con el estado del préstamo. De todos modos, forman otro grupo de correlación con otras variables como los Años_Crédito y el número de líneas de crédito (CLNO)."
   ]
  }
 ],
 "metadata": {
  "kernelspec": {
   "display_name": "Python 3.9.12 ('base')",
   "language": "python",
   "name": "python3"
  },
  "language_info": {
   "codemirror_mode": {
    "name": "ipython",
    "version": 3
   },
   "file_extension": ".py",
   "mimetype": "text/x-python",
   "name": "python",
   "nbconvert_exporter": "python",
   "pygments_lexer": "ipython3",
   "version": "3.9.12"
  },
  "vscode": {
   "interpreter": {
    "hash": "19d1d53a962d236aa061289c2ac16dc8e6d9648c89fe79f459ae9a3493bc67b4"
   }
  }
 },
 "nbformat": 4,
 "nbformat_minor": 4
}
