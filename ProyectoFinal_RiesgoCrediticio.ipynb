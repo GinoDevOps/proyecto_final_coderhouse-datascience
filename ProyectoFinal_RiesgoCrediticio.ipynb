{
 "cells": [
  {
   "cell_type": "markdown",
   "metadata": {},
   "source": [
    "# Proyecto Final Riesgo de Crédito"
   ]
  },
  {
   "cell_type": "markdown",
   "metadata": {},
   "source": [
    "*Helga Zambrana | Data Science*"
   ]
  },
  {
   "cell_type": "markdown",
   "metadata": {},
   "source": [
    "### Objetivos del proyecto"
   ]
  },
  {
   "cell_type": "markdown",
   "metadata": {},
   "source": [
    "Los objetivos de este proyecto final son:\n",
    "- analizar la información disponible de los aplicantes a un préstamo e identificar las posibles variables que determinan si el solicitante no pagará el préstamo\n",
    "- analizar diferentes opciones de modelos de clasificación y seleccionar el que tenga la mejor performance en predecir si el solicitante pagará o no el préstamo\n",
    "- desarrollar un modelo de riesgo de crédito en Python para predecir las probabilidades de impago (PD) y asignar puntuaciones de crédito a los solicitantes existentes o potenciales"
   ]
  },
  {
   "cell_type": "markdown",
   "metadata": {},
   "source": [
    "### Data Acquisition"
   ]
  },
  {
   "cell_type": "code",
   "execution_count": 69,
   "metadata": {},
   "outputs": [],
   "source": [
    "# Importar librerías\n",
    "\n",
    "# Para operaciones básicas\n",
    "import numpy as np\n",
    "import pandas as pd\n",
    "import pandas_profiling\n",
    "\n",
    "# Para visualización de datos\n",
    "import matplotlib.pyplot as plt\n",
    "import seaborn as sns\n",
    "\n",
    "# Para división entre train y test\n",
    "from sklearn.model_selection import train_test_split\n",
    "from sklearn.impute import SimpleImputer, KNNImputer\n",
    "\n",
    "# Ocultar los mensajes de advertencia\n",
    "import warnings\n",
    "warnings.filterwarnings('ignore')\n",
    "\n",
    "%matplotlib inline"
   ]
  },
  {
   "cell_type": "markdown",
   "metadata": {},
   "source": [
    "El dataset elegido fue Home Equity (HMEQ) de Kaggle: https://www.kaggle.com/datasets/ajay1735/hmeq-data  \n",
    "HMEQ presenta información sobre las características y la morosidad de 5960 préstamos con garantía hipotecaria. Un préstamo con garantía hipotecaria es un préstamo en el que el deudor utiliza el capital de su vivienda como garantía subyacente.  \n",
    "Los criterios de selección del dataset fueron la claridad de los datos recolectados y su robustez, lo que facilita el análisis, el procesamiento y la generación de un modelo.   \n",
    "El dataset contiene las siguientes variables:\n",
    "- BAD: Categoría de la persona candidata al préstamo. 1, corresponde al candidato con préstamo incumplido o con mora; 0, corresponde al candidato con préstamo al día. Se considera morosidad cuando han pasado 90 días desde que el prestamista no ha pagado.  \n",
    "- LOAN: Monto en USD del préstamo solicitado\n",
    "- MORTDUE: Monto en USD adeudado de la hipoteca existente\n",
    "- VALUE: Monto en USD de la propiedad hipotecada\n",
    "- REASON: Razón para solicitar el préstamo. DebtCon, corresponde a consolidación de deudas; HomeImp, corresponde a mejoras para el hogar\n",
    "- JOB: Categoría profesional\n",
    "- YOJ: Cantidad de tiempo expresado en años desde que ingresó al trabajo actual\n",
    "- DEROG: Número de informes derogatorios importantes\n",
    "- DELINQ: Número de líneas de crédito morosas\n",
    "- CLAGE: Cantidad de tiempo expresado en meses de la línea de crédito de mayor antigüedad\n",
    "- NINQ: Número de consultas crediticias recientes\n",
    "- CLNO: Número de líneas de crédito\n",
    "- DEBTINC: Relación deuda-ingreso. Es igual a la suma de todos los pagos de deuda del mes, dividida entre el ingreso bruto mensual\n"
   ]
  },
  {
   "cell_type": "code",
   "execution_count": 70,
   "metadata": {},
   "outputs": [],
   "source": [
    "# Leer el dataset y crear un backup\n",
    "historial_credito_backup = pd.read_csv(\"hmeq.csv\")\n",
    "historial_credito = historial_credito_backup"
   ]
  },
  {
   "cell_type": "code",
   "execution_count": 71,
   "metadata": {},
   "outputs": [
    {
     "name": "stdout",
     "output_type": "stream",
     "text": [
      "El dataset tiene 5960 filas y 13 columnas.\n"
     ]
    }
   ],
   "source": [
    "# Obtener el tamaño del dataset\n",
    "print('El dataset tiene ' + str(historial_credito.shape[0]) + ' filas y ' + str(historial_credito.shape[1]) + ' columnas.')"
   ]
  },
  {
   "cell_type": "code",
   "execution_count": 72,
   "metadata": {},
   "outputs": [
    {
     "name": "stdout",
     "output_type": "stream",
     "text": [
      "<class 'pandas.core.frame.DataFrame'>\n",
      "RangeIndex: 5960 entries, 0 to 5959\n",
      "Data columns (total 13 columns):\n",
      " #   Column   Non-Null Count  Dtype  \n",
      "---  ------   --------------  -----  \n",
      " 0   BAD      5960 non-null   int64  \n",
      " 1   LOAN     5960 non-null   int64  \n",
      " 2   MORTDUE  5442 non-null   float64\n",
      " 3   VALUE    5848 non-null   float64\n",
      " 4   REASON   5708 non-null   object \n",
      " 5   JOB      5681 non-null   object \n",
      " 6   YOJ      5445 non-null   float64\n",
      " 7   DEROG    5252 non-null   float64\n",
      " 8   DELINQ   5380 non-null   float64\n",
      " 9   CLAGE    5652 non-null   float64\n",
      " 10  NINQ     5450 non-null   float64\n",
      " 11  CLNO     5738 non-null   float64\n",
      " 12  DEBTINC  4693 non-null   float64\n",
      "dtypes: float64(9), int64(2), object(2)\n",
      "memory usage: 605.4+ KB\n"
     ]
    },
    {
     "data": {
      "text/plain": [
       "float64    9\n",
       "int64      2\n",
       "object     2\n",
       "dtype: int64"
      ]
     },
     "execution_count": 72,
     "metadata": {},
     "output_type": "execute_result"
    }
   ],
   "source": [
    "# Mostrar información sobre el nombre de columnas, cantidad de registros que no son nulos y tipos de datos del dataset\n",
    "historial_credito.info()\n",
    "historial_credito.dtypes.value_counts()\n"
   ]
  },
  {
   "cell_type": "code",
   "execution_count": 73,
   "metadata": {},
   "outputs": [
    {
     "data": {
      "text/html": [
       "<div>\n",
       "<style scoped>\n",
       "    .dataframe tbody tr th:only-of-type {\n",
       "        vertical-align: middle;\n",
       "    }\n",
       "\n",
       "    .dataframe tbody tr th {\n",
       "        vertical-align: top;\n",
       "    }\n",
       "\n",
       "    .dataframe thead th {\n",
       "        text-align: right;\n",
       "    }\n",
       "</style>\n",
       "<table border=\"1\" class=\"dataframe\">\n",
       "  <thead>\n",
       "    <tr style=\"text-align: right;\">\n",
       "      <th></th>\n",
       "      <th>BAD</th>\n",
       "      <th>LOAN</th>\n",
       "      <th>MORTDUE</th>\n",
       "      <th>VALUE</th>\n",
       "      <th>REASON</th>\n",
       "      <th>JOB</th>\n",
       "      <th>YOJ</th>\n",
       "      <th>DEROG</th>\n",
       "      <th>DELINQ</th>\n",
       "      <th>CLAGE</th>\n",
       "      <th>NINQ</th>\n",
       "      <th>CLNO</th>\n",
       "      <th>DEBTINC</th>\n",
       "    </tr>\n",
       "  </thead>\n",
       "  <tbody>\n",
       "    <tr>\n",
       "      <th>0</th>\n",
       "      <td>1</td>\n",
       "      <td>1100</td>\n",
       "      <td>25860.0</td>\n",
       "      <td>39025.0</td>\n",
       "      <td>HomeImp</td>\n",
       "      <td>Other</td>\n",
       "      <td>10.5</td>\n",
       "      <td>0.0</td>\n",
       "      <td>0.0</td>\n",
       "      <td>94.366667</td>\n",
       "      <td>1.0</td>\n",
       "      <td>9.0</td>\n",
       "      <td>NaN</td>\n",
       "    </tr>\n",
       "    <tr>\n",
       "      <th>1</th>\n",
       "      <td>1</td>\n",
       "      <td>1300</td>\n",
       "      <td>70053.0</td>\n",
       "      <td>68400.0</td>\n",
       "      <td>HomeImp</td>\n",
       "      <td>Other</td>\n",
       "      <td>7.0</td>\n",
       "      <td>0.0</td>\n",
       "      <td>2.0</td>\n",
       "      <td>121.833333</td>\n",
       "      <td>0.0</td>\n",
       "      <td>14.0</td>\n",
       "      <td>NaN</td>\n",
       "    </tr>\n",
       "    <tr>\n",
       "      <th>2</th>\n",
       "      <td>1</td>\n",
       "      <td>1500</td>\n",
       "      <td>13500.0</td>\n",
       "      <td>16700.0</td>\n",
       "      <td>HomeImp</td>\n",
       "      <td>Other</td>\n",
       "      <td>4.0</td>\n",
       "      <td>0.0</td>\n",
       "      <td>0.0</td>\n",
       "      <td>149.466667</td>\n",
       "      <td>1.0</td>\n",
       "      <td>10.0</td>\n",
       "      <td>NaN</td>\n",
       "    </tr>\n",
       "    <tr>\n",
       "      <th>3</th>\n",
       "      <td>1</td>\n",
       "      <td>1500</td>\n",
       "      <td>NaN</td>\n",
       "      <td>NaN</td>\n",
       "      <td>NaN</td>\n",
       "      <td>NaN</td>\n",
       "      <td>NaN</td>\n",
       "      <td>NaN</td>\n",
       "      <td>NaN</td>\n",
       "      <td>NaN</td>\n",
       "      <td>NaN</td>\n",
       "      <td>NaN</td>\n",
       "      <td>NaN</td>\n",
       "    </tr>\n",
       "    <tr>\n",
       "      <th>4</th>\n",
       "      <td>0</td>\n",
       "      <td>1700</td>\n",
       "      <td>97800.0</td>\n",
       "      <td>112000.0</td>\n",
       "      <td>HomeImp</td>\n",
       "      <td>Office</td>\n",
       "      <td>3.0</td>\n",
       "      <td>0.0</td>\n",
       "      <td>0.0</td>\n",
       "      <td>93.333333</td>\n",
       "      <td>0.0</td>\n",
       "      <td>14.0</td>\n",
       "      <td>NaN</td>\n",
       "    </tr>\n",
       "  </tbody>\n",
       "</table>\n",
       "</div>"
      ],
      "text/plain": [
       "   BAD  LOAN  MORTDUE     VALUE   REASON     JOB   YOJ  DEROG  DELINQ  \\\n",
       "0    1  1100  25860.0   39025.0  HomeImp   Other  10.5    0.0     0.0   \n",
       "1    1  1300  70053.0   68400.0  HomeImp   Other   7.0    0.0     2.0   \n",
       "2    1  1500  13500.0   16700.0  HomeImp   Other   4.0    0.0     0.0   \n",
       "3    1  1500      NaN       NaN      NaN     NaN   NaN    NaN     NaN   \n",
       "4    0  1700  97800.0  112000.0  HomeImp  Office   3.0    0.0     0.0   \n",
       "\n",
       "        CLAGE  NINQ  CLNO  DEBTINC  \n",
       "0   94.366667   1.0   9.0      NaN  \n",
       "1  121.833333   0.0  14.0      NaN  \n",
       "2  149.466667   1.0  10.0      NaN  \n",
       "3         NaN   NaN   NaN      NaN  \n",
       "4   93.333333   0.0  14.0      NaN  "
      ]
     },
     "execution_count": 73,
     "metadata": {},
     "output_type": "execute_result"
    }
   ],
   "source": [
    "# Visualizar los primeros 5 registros\n",
    "historial_credito.head()"
   ]
  },
  {
   "cell_type": "markdown",
   "metadata": {},
   "source": [
    "#### *Valores duplicados y nulos*"
   ]
  },
  {
   "cell_type": "code",
   "execution_count": 74,
   "metadata": {},
   "outputs": [
    {
     "data": {
      "text/html": [
       "<div>\n",
       "<style scoped>\n",
       "    .dataframe tbody tr th:only-of-type {\n",
       "        vertical-align: middle;\n",
       "    }\n",
       "\n",
       "    .dataframe tbody tr th {\n",
       "        vertical-align: top;\n",
       "    }\n",
       "\n",
       "    .dataframe thead th {\n",
       "        text-align: right;\n",
       "    }\n",
       "</style>\n",
       "<table border=\"1\" class=\"dataframe\">\n",
       "  <thead>\n",
       "    <tr style=\"text-align: right;\">\n",
       "      <th></th>\n",
       "      <th>BAD</th>\n",
       "      <th>LOAN</th>\n",
       "      <th>MORTDUE</th>\n",
       "      <th>VALUE</th>\n",
       "      <th>REASON</th>\n",
       "      <th>JOB</th>\n",
       "      <th>YOJ</th>\n",
       "      <th>DEROG</th>\n",
       "      <th>DELINQ</th>\n",
       "      <th>CLAGE</th>\n",
       "      <th>NINQ</th>\n",
       "      <th>CLNO</th>\n",
       "      <th>DEBTINC</th>\n",
       "    </tr>\n",
       "  </thead>\n",
       "  <tbody>\n",
       "  </tbody>\n",
       "</table>\n",
       "</div>"
      ],
      "text/plain": [
       "Empty DataFrame\n",
       "Columns: [BAD, LOAN, MORTDUE, VALUE, REASON, JOB, YOJ, DEROG, DELINQ, CLAGE, NINQ, CLNO, DEBTINC]\n",
       "Index: []"
      ]
     },
     "execution_count": 74,
     "metadata": {},
     "output_type": "execute_result"
    }
   ],
   "source": [
    "#Verificar si existen datos duplicados en el dataset\n",
    "historial_credito[historial_credito.duplicated()]"
   ]
  },
  {
   "cell_type": "markdown",
   "metadata": {},
   "source": [
    "No existen registros duplicados en el dataset."
   ]
  },
  {
   "cell_type": "code",
   "execution_count": 75,
   "metadata": {},
   "outputs": [
    {
     "name": "stdout",
     "output_type": "stream",
     "text": [
      "Columnas con valores faltantes: 11\n",
      "Total de columnas: 13\n",
      "Porcentaje de columnas con valores faltantes: 84.6%\n"
     ]
    },
    {
     "data": {
      "text/html": [
       "<div>\n",
       "<style scoped>\n",
       "    .dataframe tbody tr th:only-of-type {\n",
       "        vertical-align: middle;\n",
       "    }\n",
       "\n",
       "    .dataframe tbody tr th {\n",
       "        vertical-align: top;\n",
       "    }\n",
       "\n",
       "    .dataframe thead th {\n",
       "        text-align: right;\n",
       "    }\n",
       "</style>\n",
       "<table border=\"1\" class=\"dataframe\">\n",
       "  <thead>\n",
       "    <tr style=\"text-align: right;\">\n",
       "      <th></th>\n",
       "      <th>Cantidad Datos Faltantes</th>\n",
       "      <th>Porcentaje Datos Faltantes</th>\n",
       "    </tr>\n",
       "  </thead>\n",
       "  <tbody>\n",
       "    <tr>\n",
       "      <th>DEBTINC</th>\n",
       "      <td>1267</td>\n",
       "      <td>21.3</td>\n",
       "    </tr>\n",
       "    <tr>\n",
       "      <th>DEROG</th>\n",
       "      <td>708</td>\n",
       "      <td>11.9</td>\n",
       "    </tr>\n",
       "    <tr>\n",
       "      <th>DELINQ</th>\n",
       "      <td>580</td>\n",
       "      <td>9.7</td>\n",
       "    </tr>\n",
       "    <tr>\n",
       "      <th>MORTDUE</th>\n",
       "      <td>518</td>\n",
       "      <td>8.7</td>\n",
       "    </tr>\n",
       "    <tr>\n",
       "      <th>YOJ</th>\n",
       "      <td>515</td>\n",
       "      <td>8.6</td>\n",
       "    </tr>\n",
       "    <tr>\n",
       "      <th>NINQ</th>\n",
       "      <td>510</td>\n",
       "      <td>8.6</td>\n",
       "    </tr>\n",
       "    <tr>\n",
       "      <th>CLAGE</th>\n",
       "      <td>308</td>\n",
       "      <td>5.2</td>\n",
       "    </tr>\n",
       "    <tr>\n",
       "      <th>JOB</th>\n",
       "      <td>279</td>\n",
       "      <td>4.7</td>\n",
       "    </tr>\n",
       "    <tr>\n",
       "      <th>REASON</th>\n",
       "      <td>252</td>\n",
       "      <td>4.2</td>\n",
       "    </tr>\n",
       "    <tr>\n",
       "      <th>CLNO</th>\n",
       "      <td>222</td>\n",
       "      <td>3.7</td>\n",
       "    </tr>\n",
       "    <tr>\n",
       "      <th>VALUE</th>\n",
       "      <td>112</td>\n",
       "      <td>1.9</td>\n",
       "    </tr>\n",
       "    <tr>\n",
       "      <th>BAD</th>\n",
       "      <td>0</td>\n",
       "      <td>0.0</td>\n",
       "    </tr>\n",
       "    <tr>\n",
       "      <th>LOAN</th>\n",
       "      <td>0</td>\n",
       "      <td>0.0</td>\n",
       "    </tr>\n",
       "  </tbody>\n",
       "</table>\n",
       "</div>"
      ],
      "text/plain": [
       "         Cantidad Datos Faltantes  Porcentaje Datos Faltantes\n",
       "DEBTINC                      1267                        21.3\n",
       "DEROG                         708                        11.9\n",
       "DELINQ                        580                         9.7\n",
       "MORTDUE                       518                         8.7\n",
       "YOJ                           515                         8.6\n",
       "NINQ                          510                         8.6\n",
       "CLAGE                         308                         5.2\n",
       "JOB                           279                         4.7\n",
       "REASON                        252                         4.2\n",
       "CLNO                          222                         3.7\n",
       "VALUE                         112                         1.9\n",
       "BAD                             0                         0.0\n",
       "LOAN                            0                         0.0"
      ]
     },
     "execution_count": 75,
     "metadata": {},
     "output_type": "execute_result"
    }
   ],
   "source": [
    "# Crear una función que muestre la información sobre valores faltantes del dataset\n",
    "def get_missing_values_info(df):\n",
    "\n",
    "    # Contar los valores faltantes en cada columna\n",
    "    count_missing = df.isnull().sum()\n",
    "\n",
    "    # Mostrar los valores faltantes como un porcentaje\n",
    "    percent_missing = (100 * count_missing / df.shape[0]).round(1)\n",
    "\n",
    "    # Crear el dataframe con los resultados \n",
    "    missing_df = pd.DataFrame({'Cantidad Datos Faltantes':count_missing,\n",
    "                               'Porcentaje Datos Faltantes':percent_missing})\n",
    "\n",
    "    # Ordenar los valores por el porcentaje de datos faltantes\n",
    "    missing_df = missing_df.sort_values('Porcentaje Datos Faltantes', ascending=False)\n",
    "\n",
    "    # Mostrar el porcentaje de columnas con valores faltantes y comparar con el número total de columnas\n",
    "    missing_values_list = df.columns[df.isnull().any()].tolist()\n",
    "    cols_missing_vals = len(missing_values_list)\n",
    "    df_cols = df.shape[1]\n",
    "\n",
    "    print(f'Columnas con valores faltantes: {cols_missing_vals}')\n",
    "    print(f'Total de columnas: {df_cols}')\n",
    "    print(f'Porcentaje de columnas con valores faltantes: {round(cols_missing_vals/df_cols*100,1)}%')\n",
    "\n",
    "    return missing_df\n",
    "\n",
    "get_missing_values_info(historial_credito)"
   ]
  },
  {
   "cell_type": "markdown",
   "metadata": {},
   "source": [
    "'DEBTINC' es la variable que cuenta con mayor cantidad de valores nulos con un 21.3% del total."
   ]
  },
  {
   "cell_type": "code",
   "execution_count": 77,
   "metadata": {},
   "outputs": [
    {
     "data": {
      "text/plain": [
       "<AxesSubplot:>"
      ]
     },
     "execution_count": 77,
     "metadata": {},
     "output_type": "execute_result"
    },
    {
     "data": {
      "image/png": "[encoded data removed]",
      "text/plain": [
       "<Figure size 432x288 with 1 Axes>"
      ]
     },
     "metadata": {
      "needs_background": "light"
     },
     "output_type": "display_data"
    }
   ],
   "source": [
    "# Identificar los valores nulos de manera visual\n",
    "sns.heatmap(historial_credito.isnull(), cbar = False)"
   ]
  },
  {
   "cell_type": "markdown",
   "metadata": {},
   "source": [
    "#### *Variable target 'BAD'*"
   ]
  },
  {
   "cell_type": "code",
   "execution_count": 78,
   "metadata": {},
   "outputs": [
    {
     "data": {
      "text/html": [
       "<div>\n",
       "<style scoped>\n",
       "    .dataframe tbody tr th:only-of-type {\n",
       "        vertical-align: middle;\n",
       "    }\n",
       "\n",
       "    .dataframe tbody tr th {\n",
       "        vertical-align: top;\n",
       "    }\n",
       "\n",
       "    .dataframe thead th {\n",
       "        text-align: right;\n",
       "    }\n",
       "</style>\n",
       "<table border=\"1\" class=\"dataframe\">\n",
       "  <thead>\n",
       "    <tr style=\"text-align: right;\">\n",
       "      <th></th>\n",
       "      <th>Cantidad</th>\n",
       "      <th>Porcentaje</th>\n",
       "    </tr>\n",
       "  </thead>\n",
       "  <tbody>\n",
       "    <tr>\n",
       "      <th>0</th>\n",
       "      <td>4771</td>\n",
       "      <td>80.1</td>\n",
       "    </tr>\n",
       "    <tr>\n",
       "      <th>1</th>\n",
       "      <td>1189</td>\n",
       "      <td>19.9</td>\n",
       "    </tr>\n",
       "  </tbody>\n",
       "</table>\n",
       "</div>"
      ],
      "text/plain": [
       "   Cantidad  Porcentaje\n",
       "0      4771        80.1\n",
       "1      1189        19.9"
      ]
     },
     "execution_count": 78,
     "metadata": {},
     "output_type": "execute_result"
    }
   ],
   "source": [
    "# Crear una función que muestre la información sobre BAD\n",
    "def valoresBAD_info(df):\n",
    "\n",
    "    # Mostrar la cantidad de registros de BAD\n",
    "    count_BAD = df['BAD']. value_counts()\n",
    "\n",
    "    # Obtener la cantidad de registros de BAD como un porcentaje\n",
    "    percent_BAD = (100 * count_BAD / df.shape[0]).round(1)\n",
    "\n",
    "    # Crear un dataframe con los resultados\n",
    "    values_df = pd.DataFrame({'Cantidad':count_BAD,\n",
    "                               'Porcentaje':percent_BAD})\n",
    "\n",
    "    return values_df\n",
    "\n",
    "valoresBAD_info(historial_credito)"
   ]
  },
  {
   "cell_type": "markdown",
   "metadata": {},
   "source": [
    "Consideramos al atributo 'BAD' nuestra variable target. El mismo divide a las personas con su deuda al día (BAD = 0) de las personas con deuda morosa (BAD = 1).  \n",
    "Una primera conclusión es que el dataset está desbalanceado porque solo el 19.9% del dataset representa a las personas con deuda morosa."
   ]
  },
  {
   "cell_type": "markdown",
   "metadata": {},
   "source": [
    "En porcentaje de personas con deudas morosas es de 19.95% del total de registros del dataset."
   ]
  },
  {
   "cell_type": "markdown",
   "metadata": {},
   "source": [
    "#### *División entre Train y Test*"
   ]
  },
  {
   "cell_type": "markdown",
   "metadata": {},
   "source": [
    "Antes de comenzar a limpiar e imputar los datos faltantes, debemos dividir el dataset en 2 conjuntos:\n",
    "- \"Train\", 80% del total de registros del dataset, que usaremos para entrenar nuestro modelo\n",
    "- \"Test\", 20% del total de registros del dataset, sobre el que evaluaremos nuestro modelo entrenado\n",
    "\n",
    "![Conjunto Train y Test](https://miro.medium.com/max/875/1*-8_kogvwmL1H6ooN1A1tsQ.png)"
   ]
  },
  {
   "cell_type": "code",
   "execution_count": 79,
   "metadata": {},
   "outputs": [
    {
     "name": "stdout",
     "output_type": "stream",
     "text": [
      "Cantidad de registros en X_train:  4768\n",
      "Cantidad de registros en X_test:  1192\n",
      "Cantidad de registros en y_train:  4768\n",
      "Cantidad de registros en y_test:  1192\n"
     ]
    }
   ],
   "source": [
    "# Dividir aleatoriamente el dataset en train (80%) y test (20%) y mantener la distribución de cantidad de personas morosas en el test set\n",
    "X = historial_credito.drop('BAD', axis=1)\n",
    "y = historial_credito['BAD']\n",
    "X_train, X_test, y_train, y_test = train_test_split(X, y, test_size = 0.20, random_state = 42, stratify = y)\n",
    "# Mostrar la cantidad de variables independientes que se usarán para entrenar el modelo\n",
    "print(\"Cantidad de registros en X_train: \", len(X_train))\n",
    "# Mostrar la cantidad de variables independientes que se usarán para realizar predicciones y testear la precisión del modelo\n",
    "print(\"Cantidad de registros en X_test: \", len(X_test))\n",
    "# Mostrar la cantidad de variables dependientes que necesitan ser predichas por este modelo, incluyendo etiquetas de categoría contra sus variables independientes\n",
    "print(\"Cantidad de registros en y_train: \", len(y_train))\n",
    "# Mostrar la cantidad de datos con etiquetas de categoría, se utilizarán para probar la precisión entre las categorías reales y las predichas.\n",
    "print(\"Cantidad de registros en y_test: \", len(y_test))"
   ]
  },
  {
   "cell_type": "code",
   "execution_count": 80,
   "metadata": {},
   "outputs": [
    {
     "data": {
      "text/html": [
       "<div>\n",
       "<style scoped>\n",
       "    .dataframe tbody tr th:only-of-type {\n",
       "        vertical-align: middle;\n",
       "    }\n",
       "\n",
       "    .dataframe tbody tr th {\n",
       "        vertical-align: top;\n",
       "    }\n",
       "\n",
       "    .dataframe thead th {\n",
       "        text-align: right;\n",
       "    }\n",
       "</style>\n",
       "<table border=\"1\" class=\"dataframe\">\n",
       "  <thead>\n",
       "    <tr style=\"text-align: right;\">\n",
       "      <th></th>\n",
       "      <th>LOAN</th>\n",
       "      <th>MORTDUE</th>\n",
       "      <th>VALUE</th>\n",
       "      <th>REASON</th>\n",
       "      <th>JOB</th>\n",
       "      <th>YOJ</th>\n",
       "      <th>DEROG</th>\n",
       "      <th>DELINQ</th>\n",
       "      <th>CLAGE</th>\n",
       "      <th>NINQ</th>\n",
       "      <th>CLNO</th>\n",
       "      <th>DEBTINC</th>\n",
       "      <th>BAD</th>\n",
       "    </tr>\n",
       "  </thead>\n",
       "  <tbody>\n",
       "    <tr>\n",
       "      <th>609</th>\n",
       "      <td>7700</td>\n",
       "      <td>70451.00</td>\n",
       "      <td>81862.0</td>\n",
       "      <td>DebtCon</td>\n",
       "      <td>Sales</td>\n",
       "      <td>3.0</td>\n",
       "      <td>0.0</td>\n",
       "      <td>0.0</td>\n",
       "      <td>141.268671</td>\n",
       "      <td>0.0</td>\n",
       "      <td>31.0</td>\n",
       "      <td>31.681943</td>\n",
       "      <td>0</td>\n",
       "    </tr>\n",
       "    <tr>\n",
       "      <th>4015</th>\n",
       "      <td>21000</td>\n",
       "      <td>48735.00</td>\n",
       "      <td>71694.0</td>\n",
       "      <td>DebtCon</td>\n",
       "      <td>Other</td>\n",
       "      <td>8.0</td>\n",
       "      <td>0.0</td>\n",
       "      <td>0.0</td>\n",
       "      <td>48.498971</td>\n",
       "      <td>3.0</td>\n",
       "      <td>10.0</td>\n",
       "      <td>32.921401</td>\n",
       "      <td>1</td>\n",
       "    </tr>\n",
       "    <tr>\n",
       "      <th>1591</th>\n",
       "      <td>11500</td>\n",
       "      <td>63136.00</td>\n",
       "      <td>81099.0</td>\n",
       "      <td>DebtCon</td>\n",
       "      <td>Other</td>\n",
       "      <td>3.0</td>\n",
       "      <td>NaN</td>\n",
       "      <td>NaN</td>\n",
       "      <td>149.064745</td>\n",
       "      <td>NaN</td>\n",
       "      <td>35.0</td>\n",
       "      <td>28.975940</td>\n",
       "      <td>0</td>\n",
       "    </tr>\n",
       "    <tr>\n",
       "      <th>1127</th>\n",
       "      <td>9900</td>\n",
       "      <td>55342.00</td>\n",
       "      <td>72357.0</td>\n",
       "      <td>DebtCon</td>\n",
       "      <td>Mgr</td>\n",
       "      <td>7.0</td>\n",
       "      <td>NaN</td>\n",
       "      <td>3.0</td>\n",
       "      <td>111.998855</td>\n",
       "      <td>1.0</td>\n",
       "      <td>11.0</td>\n",
       "      <td>39.870340</td>\n",
       "      <td>0</td>\n",
       "    </tr>\n",
       "    <tr>\n",
       "      <th>920</th>\n",
       "      <td>9000</td>\n",
       "      <td>47350.86</td>\n",
       "      <td>105000.0</td>\n",
       "      <td>DebtCon</td>\n",
       "      <td>ProfExe</td>\n",
       "      <td>6.0</td>\n",
       "      <td>0.0</td>\n",
       "      <td>1.0</td>\n",
       "      <td>227.266667</td>\n",
       "      <td>0.0</td>\n",
       "      <td>10.0</td>\n",
       "      <td>NaN</td>\n",
       "      <td>0</td>\n",
       "    </tr>\n",
       "    <tr>\n",
       "      <th>...</th>\n",
       "      <td>...</td>\n",
       "      <td>...</td>\n",
       "      <td>...</td>\n",
       "      <td>...</td>\n",
       "      <td>...</td>\n",
       "      <td>...</td>\n",
       "      <td>...</td>\n",
       "      <td>...</td>\n",
       "      <td>...</td>\n",
       "      <td>...</td>\n",
       "      <td>...</td>\n",
       "      <td>...</td>\n",
       "      <td>...</td>\n",
       "    </tr>\n",
       "    <tr>\n",
       "      <th>3287</th>\n",
       "      <td>17500</td>\n",
       "      <td>68000.00</td>\n",
       "      <td>133015.0</td>\n",
       "      <td>DebtCon</td>\n",
       "      <td>Office</td>\n",
       "      <td>19.0</td>\n",
       "      <td>1.0</td>\n",
       "      <td>1.0</td>\n",
       "      <td>177.500000</td>\n",
       "      <td>5.0</td>\n",
       "      <td>21.0</td>\n",
       "      <td>NaN</td>\n",
       "      <td>1</td>\n",
       "    </tr>\n",
       "    <tr>\n",
       "      <th>4301</th>\n",
       "      <td>22400</td>\n",
       "      <td>51470.00</td>\n",
       "      <td>68139.0</td>\n",
       "      <td>DebtCon</td>\n",
       "      <td>Mgr</td>\n",
       "      <td>9.0</td>\n",
       "      <td>0.0</td>\n",
       "      <td>0.0</td>\n",
       "      <td>31.168696</td>\n",
       "      <td>2.0</td>\n",
       "      <td>8.0</td>\n",
       "      <td>37.952180</td>\n",
       "      <td>1</td>\n",
       "    </tr>\n",
       "    <tr>\n",
       "      <th>2821</th>\n",
       "      <td>15800</td>\n",
       "      <td>NaN</td>\n",
       "      <td>44144.0</td>\n",
       "      <td>HomeImp</td>\n",
       "      <td>Other</td>\n",
       "      <td>0.0</td>\n",
       "      <td>0.0</td>\n",
       "      <td>0.0</td>\n",
       "      <td>315.812632</td>\n",
       "      <td>1.0</td>\n",
       "      <td>9.0</td>\n",
       "      <td>25.650384</td>\n",
       "      <td>0</td>\n",
       "    </tr>\n",
       "    <tr>\n",
       "      <th>1167</th>\n",
       "      <td>10000</td>\n",
       "      <td>147234.00</td>\n",
       "      <td>175300.0</td>\n",
       "      <td>HomeImp</td>\n",
       "      <td>Office</td>\n",
       "      <td>6.0</td>\n",
       "      <td>0.0</td>\n",
       "      <td>0.0</td>\n",
       "      <td>192.766667</td>\n",
       "      <td>1.0</td>\n",
       "      <td>56.0</td>\n",
       "      <td>NaN</td>\n",
       "      <td>0</td>\n",
       "    </tr>\n",
       "    <tr>\n",
       "      <th>2</th>\n",
       "      <td>1500</td>\n",
       "      <td>13500.00</td>\n",
       "      <td>16700.0</td>\n",
       "      <td>HomeImp</td>\n",
       "      <td>Other</td>\n",
       "      <td>4.0</td>\n",
       "      <td>0.0</td>\n",
       "      <td>0.0</td>\n",
       "      <td>149.466667</td>\n",
       "      <td>1.0</td>\n",
       "      <td>10.0</td>\n",
       "      <td>NaN</td>\n",
       "      <td>1</td>\n",
       "    </tr>\n",
       "  </tbody>\n",
       "</table>\n",
       "<p>4768 rows × 13 columns</p>\n",
       "</div>"
      ],
      "text/plain": [
       "       LOAN    MORTDUE     VALUE   REASON      JOB   YOJ  DEROG  DELINQ  \\\n",
       "609    7700   70451.00   81862.0  DebtCon    Sales   3.0    0.0     0.0   \n",
       "4015  21000   48735.00   71694.0  DebtCon    Other   8.0    0.0     0.0   \n",
       "1591  11500   63136.00   81099.0  DebtCon    Other   3.0    NaN     NaN   \n",
       "1127   9900   55342.00   72357.0  DebtCon      Mgr   7.0    NaN     3.0   \n",
       "920    9000   47350.86  105000.0  DebtCon  ProfExe   6.0    0.0     1.0   \n",
       "...     ...        ...       ...      ...      ...   ...    ...     ...   \n",
       "3287  17500   68000.00  133015.0  DebtCon   Office  19.0    1.0     1.0   \n",
       "4301  22400   51470.00   68139.0  DebtCon      Mgr   9.0    0.0     0.0   \n",
       "2821  15800        NaN   44144.0  HomeImp    Other   0.0    0.0     0.0   \n",
       "1167  10000  147234.00  175300.0  HomeImp   Office   6.0    0.0     0.0   \n",
       "2      1500   13500.00   16700.0  HomeImp    Other   4.0    0.0     0.0   \n",
       "\n",
       "           CLAGE  NINQ  CLNO    DEBTINC  BAD  \n",
       "609   141.268671   0.0  31.0  31.681943    0  \n",
       "4015   48.498971   3.0  10.0  32.921401    1  \n",
       "1591  149.064745   NaN  35.0  28.975940    0  \n",
       "1127  111.998855   1.0  11.0  39.870340    0  \n",
       "920   227.266667   0.0  10.0        NaN    0  \n",
       "...          ...   ...   ...        ...  ...  \n",
       "3287  177.500000   5.0  21.0        NaN    1  \n",
       "4301   31.168696   2.0   8.0  37.952180    1  \n",
       "2821  315.812632   1.0   9.0  25.650384    0  \n",
       "1167  192.766667   1.0  56.0        NaN    0  \n",
       "2     149.466667   1.0  10.0        NaN    1  \n",
       "\n",
       "[4768 rows x 13 columns]"
      ]
     },
     "execution_count": 80,
     "metadata": {},
     "output_type": "execute_result"
    }
   ],
   "source": [
    "# Unir x_train y y_train en un único dataframe\n",
    "train_df = pd.concat([X_train, pd.DataFrame(y_train)], axis=1)\n",
    "train_df"
   ]
  },
  {
   "cell_type": "markdown",
   "metadata": {},
   "source": [
    "### Data Wrangling + Análisis Exploratorio de Datos (EDA)"
   ]
  },
  {
   "cell_type": "markdown",
   "metadata": {},
   "source": [
    "En esta sección prepararemos, limpiaremos y unificaremos, trataremos los outliers los datos para facilitar el acceso, el análisis y el modelado en profundidad."
   ]
  },
  {
   "cell_type": "markdown",
   "metadata": {},
   "source": [
    "#### *Tratamiento de datos faltantes en variables categóricas*"
   ]
  },
  {
   "cell_type": "code",
   "execution_count": 81,
   "metadata": {},
   "outputs": [
    {
     "name": "stdout",
     "output_type": "stream",
     "text": [
      "Los valores únicos de la variable REASON son ['DebtCon' 'HomeImp' nan]\n",
      "Los valores únicos de la variable JOB son ['Sales' 'Other' 'Mgr' 'ProfExe' 'Self' 'Office' nan]\n"
     ]
    }
   ],
   "source": [
    "# Indagar los valores únicos de las variables categóricas 'REASON' Y 'JOB'\n",
    "print('Los valores únicos de la variable REASON son ' + str(train_df['REASON'].unique()))\n",
    "print('Los valores únicos de la variable JOB son ' + str(train_df['JOB'].unique()))"
   ]
  },
  {
   "cell_type": "code",
   "execution_count": 82,
   "metadata": {},
   "outputs": [
    {
     "data": {
      "text/plain": [
       "BAD  REASON \n",
       "0    DebtCon    2534\n",
       "     HomeImp    1123\n",
       "     NaN         160\n",
       "1    DebtCon     594\n",
       "     HomeImp     322\n",
       "     NaN          35\n",
       "Name: REASON, dtype: int64"
      ]
     },
     "execution_count": 82,
     "metadata": {},
     "output_type": "execute_result"
    }
   ],
   "source": [
    "# Mostrar la cantidad de registros correspondientes a la variable categórica 'REASON' en relación a la variable target'BAD'\n",
    "train_df.groupby('BAD')['REASON'].value_counts(dropna=False) \n",
    "#COMO MUESTRO PORCENTAJES?"
   ]
  },
  {
   "cell_type": "code",
   "execution_count": 83,
   "metadata": {},
   "outputs": [
    {
     "data": {
      "image/png": "[encoded data removed]",
      "text/plain": [
       "<Figure size 432x288 with 1 Axes>"
      ]
     },
     "metadata": {},
     "output_type": "display_data"
    }
   ],
   "source": [
    "# Mostrar los resultados en un bar plot\n",
    "sns.set_theme(style='darkgrid')\n",
    "\n",
    "def percentage_above_bar_relative_to_xgroup(ax):\n",
    "    all_heights = [[p.get_height() for p in bars] for bars in ax.containers]\n",
    "    for bars in ax.containers:\n",
    "        for i, p in enumerate(bars):\n",
    "            total = sum(xgroup[i] for xgroup in all_heights)\n",
    "            percentage = f'{(100 * p.get_height() / total) :.1f}%'\n",
    "            ax.annotate(percentage, (p.get_x() + p.get_width() / 2, p.get_height()), size=11, ha='center', va='bottom')\n",
    "\n",
    "ax = sns.countplot(x=\"REASON\", hue=\"BAD\", data=train_df)\n",
    "\n",
    "percentage_above_bar_relative_to_xgroup(ax)\n",
    "plt.show()"
   ]
  },
  {
   "cell_type": "markdown",
   "metadata": {},
   "source": [
    "Según la variable 'REASON', 'DebtCon' (consolidación de deudas) es el motivo principal para solicitar un préstamo, entre quienes pagan o no sus deudas. A partir de la muestra, inferimos que si la razón es 'HomeImp' (mejoras del hogar), la diferencia entre quienes pagan y no pagan disminuye."
   ]
  },
  {
   "cell_type": "code",
   "execution_count": 84,
   "metadata": {},
   "outputs": [
    {
     "data": {
      "text/plain": [
       "BAD  JOB    \n",
       "0    Other      1479\n",
       "     ProfExe     839\n",
       "     Office      654\n",
       "     Mgr         467\n",
       "     NaN         213\n",
       "     Self        106\n",
       "     Sales        59\n",
       "1    Other       458\n",
       "     ProfExe     167\n",
       "     Mgr         139\n",
       "     Office       93\n",
       "     Self         44\n",
       "     Sales        33\n",
       "     NaN          17\n",
       "Name: JOB, dtype: int64"
      ]
     },
     "execution_count": 84,
     "metadata": {},
     "output_type": "execute_result"
    }
   ],
   "source": [
    "# Mostrar la cantidad de registros correspondientes a la variable categórica 'JOB' en relación a la variable target 'BAD' \n",
    "train_df.groupby('BAD')['JOB'].value_counts(dropna=False)\n",
    "#COMO MUESTRO PORCENTAJES?"
   ]
  },
  {
   "cell_type": "code",
   "execution_count": 85,
   "metadata": {},
   "outputs": [
    {
     "data": {
      "image/png": "[encoded data removed]",
      "text/plain": [
       "<Figure size 432x288 with 1 Axes>"
      ]
     },
     "metadata": {},
     "output_type": "display_data"
    }
   ],
   "source": [
    "# Mostrar los resultados en un bar plot\n",
    "def percentage_above_bar_relative_to_xgroup(ax):\n",
    "    all_heights = [[p.get_height() for p in bars] for bars in ax.containers]\n",
    "    for bars in ax.containers:\n",
    "        for i, p in enumerate(bars):\n",
    "            total = sum(xgroup[i] for xgroup in all_heights)\n",
    "            percentage = f'{(100 * p.get_height() / total) :.1f}%'\n",
    "            ax.annotate(percentage, (p.get_x() + p.get_width() / 2, p.get_height()), size=11, ha='center', va='bottom')\n",
    "\n",
    "ax = sns.countplot(x=\"JOB\", hue=\"BAD\", data=train_df)\n",
    "\n",
    "percentage_above_bar_relative_to_xgroup(ax)\n",
    "plt.show()"
   ]
  },
  {
   "cell_type": "markdown",
   "metadata": {},
   "source": [
    "Según la variable 'JOB', inferimos que existe una tendencia levemente mayor a no pagar las deudas entre los perfiles de 'Sales' (Ventas) y 'Self' (Autónomos)."
   ]
  },
  {
   "cell_type": "code",
   "execution_count": 86,
   "metadata": {},
   "outputs": [
    {
     "data": {
      "text/plain": [
       "BAD  REASON \n",
       "0    DebtCon    2694\n",
       "     HomeImp    1123\n",
       "1    DebtCon     629\n",
       "     HomeImp     322\n",
       "Name: REASON, dtype: int64"
      ]
     },
     "execution_count": 86,
     "metadata": {},
     "output_type": "execute_result"
    }
   ],
   "source": [
    "# Imputar variables categóricas con la moda de 'REASON' y 'JOB'\n",
    "train_df['REASON'] = train_df['REASON'].fillna(train_df['REASON'].mode()[0])\n",
    "train_df['JOB'] = train_df['JOB'].fillna(train_df['JOB'].mode()[0])\n",
    "\n",
    "# Ver el contador de 'REASON' luego de la imputación de variables\n",
    "train_df.groupby('BAD')['REASON'].value_counts(dropna=False) "
   ]
  },
  {
   "cell_type": "code",
   "execution_count": 87,
   "metadata": {},
   "outputs": [
    {
     "data": {
      "image/png": "[encoded data removed]",
      "text/plain": [
       "<Figure size 432x288 with 1 Axes>"
      ]
     },
     "metadata": {},
     "output_type": "display_data"
    }
   ],
   "source": [
    "# Mostrar los resultados en un bar plot\n",
    "sns.set_theme(style='darkgrid')\n",
    "\n",
    "def percentage_above_bar_relative_to_xgroup(ax):\n",
    "    all_heights = [[p.get_height() for p in bars] for bars in ax.containers]\n",
    "    for bars in ax.containers:\n",
    "        for i, p in enumerate(bars):\n",
    "            total = sum(xgroup[i] for xgroup in all_heights)\n",
    "            percentage = f'{(100 * p.get_height() / total) :.1f}%'\n",
    "            ax.annotate(percentage, (p.get_x() + p.get_width() / 2, p.get_height()), size=11, ha='center', va='bottom')\n",
    "\n",
    "ax = sns.countplot(x=\"REASON\", hue=\"BAD\", data=train_df)\n",
    "\n",
    "percentage_above_bar_relative_to_xgroup(ax)\n",
    "plt.show()"
   ]
  },
  {
   "cell_type": "code",
   "execution_count": 88,
   "metadata": {},
   "outputs": [
    {
     "data": {
      "text/plain": [
       "BAD  JOB    \n",
       "0    Other      1692\n",
       "     ProfExe     839\n",
       "     Office      654\n",
       "     Mgr         467\n",
       "     Self        106\n",
       "     Sales        59\n",
       "1    Other       475\n",
       "     ProfExe     167\n",
       "     Mgr         139\n",
       "     Office       93\n",
       "     Self         44\n",
       "     Sales        33\n",
       "Name: JOB, dtype: int64"
      ]
     },
     "execution_count": 88,
     "metadata": {},
     "output_type": "execute_result"
    }
   ],
   "source": [
    "# Ver el contador de 'JOB' luego de la imputación de variables\n",
    "train_df.groupby('BAD')['JOB'].value_counts(dropna=False)\n"
   ]
  },
  {
   "cell_type": "code",
   "execution_count": 89,
   "metadata": {},
   "outputs": [
    {
     "data": {
      "image/png": "[encoded data removed]",
      "text/plain": [
       "<Figure size 432x288 with 1 Axes>"
      ]
     },
     "metadata": {},
     "output_type": "display_data"
    }
   ],
   "source": [
    "# Mostrar los resultados en un bar plot\n",
    "def percentage_above_bar_relative_to_xgroup(ax):\n",
    "    all_heights = [[p.get_height() for p in bars] for bars in ax.containers]\n",
    "    for bars in ax.containers:\n",
    "        for i, p in enumerate(bars):\n",
    "            total = sum(xgroup[i] for xgroup in all_heights)\n",
    "            percentage = f'{(100 * p.get_height() / total) :.1f}%'\n",
    "            ax.annotate(percentage, (p.get_x() + p.get_width() / 2, p.get_height()), size=11, ha='center', va='bottom')\n",
    "\n",
    "ax = sns.countplot(x=\"JOB\", hue=\"BAD\", data=train_df)\n",
    "\n",
    "percentage_above_bar_relative_to_xgroup(ax)\n",
    "plt.show()"
   ]
  },
  {
   "cell_type": "markdown",
   "metadata": {},
   "source": [
    "Transformaremos la variable 'YOJ' a una booleana de Empleo o Desempleo y transformaremos la variable 'CLAGE' de meses a años. "
   ]
  },
  {
   "cell_type": "code",
   "execution_count": 137,
   "metadata": {},
   "outputs": [
    {
     "data": {
      "text/html": [
       "<div>\n",
       "<style scoped>\n",
       "    .dataframe tbody tr th:only-of-type {\n",
       "        vertical-align: middle;\n",
       "    }\n",
       "\n",
       "    .dataframe tbody tr th {\n",
       "        vertical-align: top;\n",
       "    }\n",
       "\n",
       "    .dataframe thead th {\n",
       "        text-align: right;\n",
       "    }\n",
       "</style>\n",
       "<table border=\"1\" class=\"dataframe\">\n",
       "  <thead>\n",
       "    <tr style=\"text-align: right;\">\n",
       "      <th></th>\n",
       "      <th>BAD</th>\n",
       "      <th>LOAN</th>\n",
       "      <th>MORTDUE</th>\n",
       "      <th>VALUE</th>\n",
       "      <th>REASON</th>\n",
       "      <th>JOB</th>\n",
       "      <th>YOJ</th>\n",
       "      <th>DEROG</th>\n",
       "      <th>DELINQ</th>\n",
       "      <th>CLAGE</th>\n",
       "      <th>NINQ</th>\n",
       "      <th>CLNO</th>\n",
       "      <th>Tiene_Empleo</th>\n",
       "      <th>Años_Credito</th>\n",
       "    </tr>\n",
       "  </thead>\n",
       "  <tbody>\n",
       "    <tr>\n",
       "      <th>0</th>\n",
       "      <td>1</td>\n",
       "      <td>1100</td>\n",
       "      <td>25860.0</td>\n",
       "      <td>39025.0</td>\n",
       "      <td>HomeImp</td>\n",
       "      <td>Other</td>\n",
       "      <td>10.5</td>\n",
       "      <td>0.0</td>\n",
       "      <td>0.0</td>\n",
       "      <td>94.366667</td>\n",
       "      <td>1.0</td>\n",
       "      <td>9.0</td>\n",
       "      <td>True</td>\n",
       "      <td>7.863889</td>\n",
       "    </tr>\n",
       "    <tr>\n",
       "      <th>1</th>\n",
       "      <td>1</td>\n",
       "      <td>1300</td>\n",
       "      <td>70053.0</td>\n",
       "      <td>68400.0</td>\n",
       "      <td>HomeImp</td>\n",
       "      <td>Other</td>\n",
       "      <td>7.0</td>\n",
       "      <td>0.0</td>\n",
       "      <td>2.0</td>\n",
       "      <td>121.833333</td>\n",
       "      <td>0.0</td>\n",
       "      <td>14.0</td>\n",
       "      <td>True</td>\n",
       "      <td>10.152778</td>\n",
       "    </tr>\n",
       "    <tr>\n",
       "      <th>2</th>\n",
       "      <td>1</td>\n",
       "      <td>1500</td>\n",
       "      <td>13500.0</td>\n",
       "      <td>16700.0</td>\n",
       "      <td>HomeImp</td>\n",
       "      <td>Other</td>\n",
       "      <td>4.0</td>\n",
       "      <td>0.0</td>\n",
       "      <td>0.0</td>\n",
       "      <td>149.466667</td>\n",
       "      <td>1.0</td>\n",
       "      <td>10.0</td>\n",
       "      <td>True</td>\n",
       "      <td>12.455556</td>\n",
       "    </tr>\n",
       "    <tr>\n",
       "      <th>4</th>\n",
       "      <td>0</td>\n",
       "      <td>1700</td>\n",
       "      <td>97800.0</td>\n",
       "      <td>112000.0</td>\n",
       "      <td>HomeImp</td>\n",
       "      <td>Office</td>\n",
       "      <td>3.0</td>\n",
       "      <td>0.0</td>\n",
       "      <td>0.0</td>\n",
       "      <td>93.333333</td>\n",
       "      <td>0.0</td>\n",
       "      <td>14.0</td>\n",
       "      <td>True</td>\n",
       "      <td>7.777778</td>\n",
       "    </tr>\n",
       "    <tr>\n",
       "      <th>5</th>\n",
       "      <td>1</td>\n",
       "      <td>1700</td>\n",
       "      <td>30548.0</td>\n",
       "      <td>40320.0</td>\n",
       "      <td>HomeImp</td>\n",
       "      <td>Other</td>\n",
       "      <td>9.0</td>\n",
       "      <td>0.0</td>\n",
       "      <td>0.0</td>\n",
       "      <td>101.466002</td>\n",
       "      <td>1.0</td>\n",
       "      <td>8.0</td>\n",
       "      <td>True</td>\n",
       "      <td>8.455500</td>\n",
       "    </tr>\n",
       "  </tbody>\n",
       "</table>\n",
       "</div>"
      ],
      "text/plain": [
       "   BAD  LOAN  MORTDUE     VALUE   REASON     JOB   YOJ  DEROG  DELINQ  \\\n",
       "0    1  1100  25860.0   39025.0  HomeImp   Other  10.5    0.0     0.0   \n",
       "1    1  1300  70053.0   68400.0  HomeImp   Other   7.0    0.0     2.0   \n",
       "2    1  1500  13500.0   16700.0  HomeImp   Other   4.0    0.0     0.0   \n",
       "4    0  1700  97800.0  112000.0  HomeImp  Office   3.0    0.0     0.0   \n",
       "5    1  1700  30548.0   40320.0  HomeImp   Other   9.0    0.0     0.0   \n",
       "\n",
       "        CLAGE  NINQ  CLNO  Tiene_Empleo  Años_Credito  \n",
       "0   94.366667   1.0   9.0          True      7.863889  \n",
       "1  121.833333   0.0  14.0          True     10.152778  \n",
       "2  149.466667   1.0  10.0          True     12.455556  \n",
       "4   93.333333   0.0  14.0          True      7.777778  \n",
       "5  101.466002   1.0   8.0          True      8.455500  "
      ]
     },
     "execution_count": 137,
     "metadata": {},
     "output_type": "execute_result"
    }
   ],
   "source": [
    "#Utilizar una función lambda para agilizar el resultado\n",
    "tiene_empleo = lambda x: False if x <=0 else True\n",
    "\n",
    "#Aplicar la función a la nueva variable\n",
    "train_df['Tiene_Empleo'] = train_df['YOJ'].apply(tiene_empleo)\n",
    "\n",
    "#Crear la variable Años_Credito\n",
    "train_df['Años_Credito'] = (train_df['CLAGE'] / 12)\n",
    "\n",
    "#Presentar los resultados\n",
    "train_df.head()"
   ]
  },
  {
   "cell_type": "markdown",
   "metadata": {},
   "source": [
    "#### *Tratamiento de datos faltantes en variables numéricas*"
   ]
  },
  {
   "cell_type": "code",
   "execution_count": 81,
   "metadata": {},
   "outputs": [
    {
     "name": "stdout",
     "output_type": "stream",
     "text": [
      "Valores faltantes en DEBTINC: 0\n"
     ]
    }
   ],
   "source": [
    "# Imputar los valores faltantes de la variable 'DEBTINC' con KNNImputer\n",
    "imputer = KNNImputer(n_neighbors=5, weights= 'uniform')\n",
    "\n",
    "imputer.fit(X_train[['DEBTINC']])\n",
    "X_train['DEBTINC'] = imputer.transform(X_train[['DEBTINC']]).ravel()\n",
    "\n",
    "print('Valores faltantes en DEBTINC: ' + str(X_train['DEBTINC'].isnull().sum()))"
   ]
  },
  {
   "cell_type": "code",
   "execution_count": 58,
   "metadata": {},
   "outputs": [
    {
     "data": {
      "text/plain": [
       "<AxesSubplot:xlabel='LOAN', ylabel='Density'>"
      ]
     },
     "execution_count": 58,
     "metadata": {},
     "output_type": "execute_result"
    },
    {
     "data": {
      "image/png": "[encoded data removed]",
      "text/plain": [
       "<Figure size 432x288 with 1 Axes>"
      ]
     },
     "metadata": {},
     "output_type": "display_data"
    }
   ],
   "source": [
    "# Histograma estimación de densidad\n",
    "sns.distplot(train_df['LOAN'], bins=20)"
   ]
  },
  {
   "cell_type": "markdown",
   "metadata": {},
   "source": [
    "Se observa que el monto del préstamo se concentra entre los 1000 USD y 55000 USD."
   ]
  },
  {
   "cell_type": "code",
   "execution_count": 67,
   "metadata": {},
   "outputs": [
    {
     "name": "stdout",
     "output_type": "stream",
     "text": [
      "distorsión: 1.965910\n",
      "curtosis: 6.637139\n"
     ]
    }
   ],
   "source": [
    "# Comprobar la simetría de los datos con curtosis y distorsión\n",
    "print('distorsión: %f' % train_df['LOAN'].skew())\n",
    "print('curtosis: %f' % train_df['LOAN'].kurt())"
   ]
  },
  {
   "cell_type": "markdown",
   "metadata": {},
   "source": [
    "Como la curtosis es mayor que 3, parece que 'LOAN' representa una distribución normal."
   ]
  },
  {
   "cell_type": "code",
   "execution_count": 144,
   "metadata": {},
   "outputs": [
    {
     "data": {
      "text/plain": [
       "<AxesSubplot:xlabel='LOAN'>"
      ]
     },
     "execution_count": 144,
     "metadata": {},
     "output_type": "execute_result"
    },
    {
     "data": {
      "image/png": "[encoded data removed]",
      "text/plain": [
       "<Figure size 1080x576 with 1 Axes>"
      ]
     },
     "metadata": {},
     "output_type": "display_data"
    }
   ],
   "source": [
    "#Boxplot sobre los valores de los préstamos\n",
    "from seaborn import boxplot\n",
    "boxplot(historial_credito['LOAN'])"
   ]
  },
  {
   "cell_type": "markdown",
   "metadata": {},
   "source": [
    "La media del monto de los préstamos que tienen las personas se ubica por debajo de los USD 20000. Observamos una gran dispersión hacia la izquierda, entre valores por encima de los USD 40000."
   ]
  },
  {
   "cell_type": "code",
   "execution_count": 145,
   "metadata": {},
   "outputs": [
    {
     "data": {
      "text/html": [
       "<div>\n",
       "<style scoped>\n",
       "    .dataframe tbody tr th:only-of-type {\n",
       "        vertical-align: middle;\n",
       "    }\n",
       "\n",
       "    .dataframe tbody tr th {\n",
       "        vertical-align: top;\n",
       "    }\n",
       "\n",
       "    .dataframe thead th {\n",
       "        text-align: right;\n",
       "    }\n",
       "</style>\n",
       "<table border=\"1\" class=\"dataframe\">\n",
       "  <thead>\n",
       "    <tr style=\"text-align: right;\">\n",
       "      <th></th>\n",
       "      <th>BAD</th>\n",
       "      <th>LOAN</th>\n",
       "      <th>MORTDUE</th>\n",
       "      <th>VALUE</th>\n",
       "      <th>REASON</th>\n",
       "      <th>JOB</th>\n",
       "      <th>YOJ</th>\n",
       "      <th>DEROG</th>\n",
       "      <th>DELINQ</th>\n",
       "      <th>NINQ</th>\n",
       "      <th>CLNO</th>\n",
       "      <th>Tiene_Empleo</th>\n",
       "      <th>Años_Credito</th>\n",
       "      <th>STATUS</th>\n",
       "    </tr>\n",
       "  </thead>\n",
       "  <tbody>\n",
       "    <tr>\n",
       "      <th>0</th>\n",
       "      <td>1</td>\n",
       "      <td>1100</td>\n",
       "      <td>25860.0</td>\n",
       "      <td>39025.0</td>\n",
       "      <td>HomeImp</td>\n",
       "      <td>Other</td>\n",
       "      <td>10.5</td>\n",
       "      <td>0.0</td>\n",
       "      <td>0.0</td>\n",
       "      <td>1.0</td>\n",
       "      <td>9.0</td>\n",
       "      <td>1</td>\n",
       "      <td>7.863889</td>\n",
       "      <td>MOROSO</td>\n",
       "    </tr>\n",
       "    <tr>\n",
       "      <th>1</th>\n",
       "      <td>1</td>\n",
       "      <td>1300</td>\n",
       "      <td>70053.0</td>\n",
       "      <td>68400.0</td>\n",
       "      <td>HomeImp</td>\n",
       "      <td>Other</td>\n",
       "      <td>7.0</td>\n",
       "      <td>0.0</td>\n",
       "      <td>2.0</td>\n",
       "      <td>0.0</td>\n",
       "      <td>14.0</td>\n",
       "      <td>1</td>\n",
       "      <td>10.152778</td>\n",
       "      <td>MOROSO</td>\n",
       "    </tr>\n",
       "    <tr>\n",
       "      <th>2</th>\n",
       "      <td>1</td>\n",
       "      <td>1500</td>\n",
       "      <td>13500.0</td>\n",
       "      <td>16700.0</td>\n",
       "      <td>HomeImp</td>\n",
       "      <td>Other</td>\n",
       "      <td>4.0</td>\n",
       "      <td>0.0</td>\n",
       "      <td>0.0</td>\n",
       "      <td>1.0</td>\n",
       "      <td>10.0</td>\n",
       "      <td>1</td>\n",
       "      <td>12.455556</td>\n",
       "      <td>MOROSO</td>\n",
       "    </tr>\n",
       "    <tr>\n",
       "      <th>4</th>\n",
       "      <td>0</td>\n",
       "      <td>1700</td>\n",
       "      <td>97800.0</td>\n",
       "      <td>112000.0</td>\n",
       "      <td>HomeImp</td>\n",
       "      <td>Office</td>\n",
       "      <td>3.0</td>\n",
       "      <td>0.0</td>\n",
       "      <td>0.0</td>\n",
       "      <td>0.0</td>\n",
       "      <td>14.0</td>\n",
       "      <td>1</td>\n",
       "      <td>7.777778</td>\n",
       "      <td>PAGADO</td>\n",
       "    </tr>\n",
       "    <tr>\n",
       "      <th>5</th>\n",
       "      <td>1</td>\n",
       "      <td>1700</td>\n",
       "      <td>30548.0</td>\n",
       "      <td>40320.0</td>\n",
       "      <td>HomeImp</td>\n",
       "      <td>Other</td>\n",
       "      <td>9.0</td>\n",
       "      <td>0.0</td>\n",
       "      <td>0.0</td>\n",
       "      <td>1.0</td>\n",
       "      <td>8.0</td>\n",
       "      <td>1</td>\n",
       "      <td>8.455500</td>\n",
       "      <td>MOROSO</td>\n",
       "    </tr>\n",
       "  </tbody>\n",
       "</table>\n",
       "</div>"
      ],
      "text/plain": [
       "   BAD  LOAN  MORTDUE     VALUE   REASON     JOB   YOJ  DEROG  DELINQ  NINQ  \\\n",
       "0    1  1100  25860.0   39025.0  HomeImp   Other  10.5    0.0     0.0   1.0   \n",
       "1    1  1300  70053.0   68400.0  HomeImp   Other   7.0    0.0     2.0   0.0   \n",
       "2    1  1500  13500.0   16700.0  HomeImp   Other   4.0    0.0     0.0   1.0   \n",
       "4    0  1700  97800.0  112000.0  HomeImp  Office   3.0    0.0     0.0   0.0   \n",
       "5    1  1700  30548.0   40320.0  HomeImp   Other   9.0    0.0     0.0   1.0   \n",
       "\n",
       "   CLNO  Tiene_Empleo  Años_Credito  STATUS  \n",
       "0   9.0             1      7.863889  MOROSO  \n",
       "1  14.0             1     10.152778  MOROSO  \n",
       "2  10.0             1     12.455556  MOROSO  \n",
       "4  14.0             1      7.777778  PAGADO  \n",
       "5   8.0             1      8.455500  MOROSO  "
      ]
     },
     "execution_count": 145,
     "metadata": {},
     "output_type": "execute_result"
    }
   ],
   "source": [
    "#Hacer visible la diferencia entre préstamos morosos y préstamos pagados\n",
    "historial_credito.loc[historial_credito['BAD'] == 1, 'STATUS'] = 'MOROSO'\n",
    "historial_credito.loc[historial_credito['BAD'] == 0, 'STATUS'] = 'PAGADO'\n",
    "historial_credito.head()"
   ]
  },
  {
   "cell_type": "markdown",
   "metadata": {},
   "source": [
    "#### *Análisis Multivariado*"
   ]
  },
  {
   "cell_type": "code",
   "execution_count": 148,
   "metadata": {},
   "outputs": [
    {
     "data": {
      "text/plain": [
       "<AxesSubplot:>"
      ]
     },
     "execution_count": 148,
     "metadata": {},
     "output_type": "execute_result"
    },
    {
     "data": {
      "image/png": "[encoded data removed]",
      "text/plain": [
       "<Figure size 1080x576 with 2 Axes>"
      ]
     },
     "metadata": {},
     "output_type": "display_data"
    }
   ],
   "source": [
    "#Mapa de Correlación\n",
    "upp_mat = np.triu(historial_credito.corr())\n",
    "\n",
    "sns.set(rc = {'figure.figsize':(15,8)})\n",
    "sns.heatmap(historial_credito.corr(), vmin = -1, vmax = +1, annot = True, cmap = 'coolwarm', mask = upp_mat)"
   ]
  },
  {
   "cell_type": "markdown",
   "metadata": {},
   "source": [
    "El mapa de correlaciones puede indicar una relación predictiva a ser explotada en el modelo de clasificación. Los colores más fríos corresponden a una baja correlación, los más cálidos corresponden a una alta correlación. \n",
    "\n",
    "Las variables relacionadas con el historial crediticio ('DELINQ', 'DEROG', 'NINQ') son las más correlacionadas con la variable target ('BAD'). Es un indicio de que éstas serán las variables de clasificación. Estas variables también están ligeramente correlacionadas entre sí sugiriendo que la información podría ser redundante.\n",
    "\n",
    "El monto adeudado de la hipoteca existente ('MORTDUE') o el valor de la garantía subyacente ('VALUE') no parecen estar relacionados con el estado del préstamo. De todos modos, forman otro grupo de correlación con otras variables como los Años_Crédito y el número de líneas de crédito (CLNO)."
   ]
  },
  {
   "cell_type": "markdown",
   "metadata": {},
   "source": [
    "#### *Estadísticas descriptivas de candidatos con préstamos pagados*"
   ]
  },
  {
   "cell_type": "code",
   "execution_count": 141,
   "metadata": {},
   "outputs": [
    {
     "data": {
      "text/html": [
       "<div>\n",
       "<style scoped>\n",
       "    .dataframe tbody tr th:only-of-type {\n",
       "        vertical-align: middle;\n",
       "    }\n",
       "\n",
       "    .dataframe tbody tr th {\n",
       "        vertical-align: top;\n",
       "    }\n",
       "\n",
       "    .dataframe thead th {\n",
       "        text-align: right;\n",
       "    }\n",
       "</style>\n",
       "<table border=\"1\" class=\"dataframe\">\n",
       "  <thead>\n",
       "    <tr style=\"text-align: right;\">\n",
       "      <th></th>\n",
       "      <th>LOAN</th>\n",
       "      <th>MORTDUE</th>\n",
       "      <th>VALUE</th>\n",
       "      <th>YOJ</th>\n",
       "      <th>DEROG</th>\n",
       "      <th>DELINQ</th>\n",
       "      <th>NINQ</th>\n",
       "      <th>CLNO</th>\n",
       "      <th>Tiene_Empleo</th>\n",
       "      <th>Años_Credito</th>\n",
       "    </tr>\n",
       "  </thead>\n",
       "  <tbody>\n",
       "    <tr>\n",
       "      <th>count</th>\n",
       "      <td>3407.0000</td>\n",
       "      <td>3407.0000</td>\n",
       "      <td>3407.0000</td>\n",
       "      <td>3407.0000</td>\n",
       "      <td>3407.0000</td>\n",
       "      <td>3407.0000</td>\n",
       "      <td>3407.0000</td>\n",
       "      <td>3407.0000</td>\n",
       "      <td>3407.0000</td>\n",
       "      <td>3407.0000</td>\n",
       "    </tr>\n",
       "    <tr>\n",
       "      <th>mean</th>\n",
       "      <td>19032.4626</td>\n",
       "      <td>75954.3452</td>\n",
       "      <td>107528.8771</td>\n",
       "      <td>9.3108</td>\n",
       "      <td>0.1048</td>\n",
       "      <td>0.2157</td>\n",
       "      <td>1.0082</td>\n",
       "      <td>22.1256</td>\n",
       "      <td>0.9181</td>\n",
       "      <td>15.3406</td>\n",
       "    </tr>\n",
       "    <tr>\n",
       "      <th>std</th>\n",
       "      <td>10863.4585</td>\n",
       "      <td>44495.8932</td>\n",
       "      <td>53831.1805</td>\n",
       "      <td>7.6620</td>\n",
       "      <td>0.3936</td>\n",
       "      <td>0.6059</td>\n",
       "      <td>1.4620</td>\n",
       "      <td>9.1293</td>\n",
       "      <td>0.2742</td>\n",
       "      <td>6.7339</td>\n",
       "    </tr>\n",
       "    <tr>\n",
       "      <th>min</th>\n",
       "      <td>1700.0000</td>\n",
       "      <td>2619.0000</td>\n",
       "      <td>26000.0000</td>\n",
       "      <td>0.0000</td>\n",
       "      <td>0.0000</td>\n",
       "      <td>0.0000</td>\n",
       "      <td>0.0000</td>\n",
       "      <td>3.0000</td>\n",
       "      <td>0.0000</td>\n",
       "      <td>0.0406</td>\n",
       "    </tr>\n",
       "    <tr>\n",
       "      <th>25%</th>\n",
       "      <td>11900.0000</td>\n",
       "      <td>49000.0000</td>\n",
       "      <td>71355.0000</td>\n",
       "      <td>3.0000</td>\n",
       "      <td>0.0000</td>\n",
       "      <td>0.0000</td>\n",
       "      <td>0.0000</td>\n",
       "      <td>16.0000</td>\n",
       "      <td>1.0000</td>\n",
       "      <td>10.1470</td>\n",
       "    </tr>\n",
       "    <tr>\n",
       "      <th>50%</th>\n",
       "      <td>16900.0000</td>\n",
       "      <td>67285.0000</td>\n",
       "      <td>94613.0000</td>\n",
       "      <td>8.0000</td>\n",
       "      <td>0.0000</td>\n",
       "      <td>0.0000</td>\n",
       "      <td>1.0000</td>\n",
       "      <td>21.0000</td>\n",
       "      <td>1.0000</td>\n",
       "      <td>15.0609</td>\n",
       "    </tr>\n",
       "    <tr>\n",
       "      <th>75%</th>\n",
       "      <td>23800.0000</td>\n",
       "      <td>92693.5000</td>\n",
       "      <td>122328.5000</td>\n",
       "      <td>14.0000</td>\n",
       "      <td>0.0000</td>\n",
       "      <td>0.0000</td>\n",
       "      <td>2.0000</td>\n",
       "      <td>27.0000</td>\n",
       "      <td>1.0000</td>\n",
       "      <td>19.4947</td>\n",
       "    </tr>\n",
       "    <tr>\n",
       "      <th>max</th>\n",
       "      <td>89900.0000</td>\n",
       "      <td>371003.0000</td>\n",
       "      <td>471827.0000</td>\n",
       "      <td>36.0000</td>\n",
       "      <td>3.0000</td>\n",
       "      <td>4.0000</td>\n",
       "      <td>11.0000</td>\n",
       "      <td>56.0000</td>\n",
       "      <td>1.0000</td>\n",
       "      <td>54.1456</td>\n",
       "    </tr>\n",
       "  </tbody>\n",
       "</table>\n",
       "</div>"
      ],
      "text/plain": [
       "             LOAN      MORTDUE        VALUE        YOJ      DEROG     DELINQ  \\\n",
       "count   3407.0000    3407.0000    3407.0000  3407.0000  3407.0000  3407.0000   \n",
       "mean   19032.4626   75954.3452  107528.8771     9.3108     0.1048     0.2157   \n",
       "std    10863.4585   44495.8932   53831.1805     7.6620     0.3936     0.6059   \n",
       "min     1700.0000    2619.0000   26000.0000     0.0000     0.0000     0.0000   \n",
       "25%    11900.0000   49000.0000   71355.0000     3.0000     0.0000     0.0000   \n",
       "50%    16900.0000   67285.0000   94613.0000     8.0000     0.0000     0.0000   \n",
       "75%    23800.0000   92693.5000  122328.5000    14.0000     0.0000     0.0000   \n",
       "max    89900.0000  371003.0000  471827.0000    36.0000     3.0000     4.0000   \n",
       "\n",
       "            NINQ       CLNO  Tiene_Empleo  Años_Credito  \n",
       "count  3407.0000  3407.0000     3407.0000     3407.0000  \n",
       "mean      1.0082    22.1256        0.9181       15.3406  \n",
       "std       1.4620     9.1293        0.2742        6.7339  \n",
       "min       0.0000     3.0000        0.0000        0.0406  \n",
       "25%       0.0000    16.0000        1.0000       10.1470  \n",
       "50%       1.0000    21.0000        1.0000       15.0609  \n",
       "75%       2.0000    27.0000        1.0000       19.4947  \n",
       "max      11.0000    56.0000        1.0000       54.1456  "
      ]
     },
     "execution_count": 141,
     "metadata": {},
     "output_type": "execute_result"
    }
   ],
   "source": [
    "#Filtrar los préstamos pagados a partir de la variable 'BAD'\n",
    "train_df[train_df['BAD']==0].drop('BAD', axis=1).describe().round(4)"
   ]
  },
  {
   "cell_type": "markdown",
   "metadata": {},
   "source": [
    "#### *Estadísticas descriptivas de candidatos con préstamos morosos*"
   ]
  },
  {
   "cell_type": "code",
   "execution_count": 142,
   "metadata": {},
   "outputs": [
    {
     "data": {
      "text/html": [
       "<div>\n",
       "<style scoped>\n",
       "    .dataframe tbody tr th:only-of-type {\n",
       "        vertical-align: middle;\n",
       "    }\n",
       "\n",
       "    .dataframe tbody tr th {\n",
       "        vertical-align: top;\n",
       "    }\n",
       "\n",
       "    .dataframe thead th {\n",
       "        text-align: right;\n",
       "    }\n",
       "</style>\n",
       "<table border=\"1\" class=\"dataframe\">\n",
       "  <thead>\n",
       "    <tr style=\"text-align: right;\">\n",
       "      <th></th>\n",
       "      <th>LOAN</th>\n",
       "      <th>MORTDUE</th>\n",
       "      <th>VALUE</th>\n",
       "      <th>YOJ</th>\n",
       "      <th>DEROG</th>\n",
       "      <th>DELINQ</th>\n",
       "      <th>NINQ</th>\n",
       "      <th>CLNO</th>\n",
       "      <th>Tiene_Empleo</th>\n",
       "      <th>Años_Credito</th>\n",
       "    </tr>\n",
       "  </thead>\n",
       "  <tbody>\n",
       "    <tr>\n",
       "      <th>count</th>\n",
       "      <td>840.0000</td>\n",
       "      <td>840.0000</td>\n",
       "      <td>840.0000</td>\n",
       "      <td>840.0000</td>\n",
       "      <td>840.0000</td>\n",
       "      <td>840.0000</td>\n",
       "      <td>840.0000</td>\n",
       "      <td>840.0000</td>\n",
       "      <td>840.0000</td>\n",
       "      <td>840.0000</td>\n",
       "    </tr>\n",
       "    <tr>\n",
       "      <th>mean</th>\n",
       "      <td>16389.4048</td>\n",
       "      <td>68966.4455</td>\n",
       "      <td>97955.4343</td>\n",
       "      <td>7.8549</td>\n",
       "      <td>0.6762</td>\n",
       "      <td>1.1488</td>\n",
       "      <td>1.8440</td>\n",
       "      <td>22.1250</td>\n",
       "      <td>0.9548</td>\n",
       "      <td>12.4777</td>\n",
       "    </tr>\n",
       "    <tr>\n",
       "      <th>std</th>\n",
       "      <td>10861.3966</td>\n",
       "      <td>47625.8831</td>\n",
       "      <td>60299.8026</td>\n",
       "      <td>6.8546</td>\n",
       "      <td>1.4318</td>\n",
       "      <td>1.8631</td>\n",
       "      <td>2.2172</td>\n",
       "      <td>11.3532</td>\n",
       "      <td>0.2079</td>\n",
       "      <td>7.3822</td>\n",
       "    </tr>\n",
       "    <tr>\n",
       "      <th>min</th>\n",
       "      <td>1100.0000</td>\n",
       "      <td>2800.0000</td>\n",
       "      <td>12500.0000</td>\n",
       "      <td>0.0000</td>\n",
       "      <td>0.0000</td>\n",
       "      <td>0.0000</td>\n",
       "      <td>0.0000</td>\n",
       "      <td>0.0000</td>\n",
       "      <td>0.0000</td>\n",
       "      <td>0.0000</td>\n",
       "    </tr>\n",
       "    <tr>\n",
       "      <th>25%</th>\n",
       "      <td>9000.0000</td>\n",
       "      <td>39552.0000</td>\n",
       "      <td>60498.2500</td>\n",
       "      <td>2.5000</td>\n",
       "      <td>0.0000</td>\n",
       "      <td>0.0000</td>\n",
       "      <td>0.0000</td>\n",
       "      <td>14.0000</td>\n",
       "      <td>1.0000</td>\n",
       "      <td>7.8784</td>\n",
       "    </tr>\n",
       "    <tr>\n",
       "      <th>50%</th>\n",
       "      <td>14600.0000</td>\n",
       "      <td>59374.5000</td>\n",
       "      <td>83000.0000</td>\n",
       "      <td>6.0000</td>\n",
       "      <td>0.0000</td>\n",
       "      <td>0.0000</td>\n",
       "      <td>1.0000</td>\n",
       "      <td>21.0000</td>\n",
       "      <td>1.0000</td>\n",
       "      <td>11.0011</td>\n",
       "    </tr>\n",
       "    <tr>\n",
       "      <th>75%</th>\n",
       "      <td>20650.0000</td>\n",
       "      <td>84985.5000</td>\n",
       "      <td>118031.2500</td>\n",
       "      <td>11.2500</td>\n",
       "      <td>1.0000</td>\n",
       "      <td>2.0000</td>\n",
       "      <td>3.0000</td>\n",
       "      <td>28.0000</td>\n",
       "      <td>1.0000</td>\n",
       "      <td>16.1591</td>\n",
       "    </tr>\n",
       "    <tr>\n",
       "      <th>max</th>\n",
       "      <td>77400.0000</td>\n",
       "      <td>399412.0000</td>\n",
       "      <td>512650.0000</td>\n",
       "      <td>41.0000</td>\n",
       "      <td>10.0000</td>\n",
       "      <td>15.0000</td>\n",
       "      <td>13.0000</td>\n",
       "      <td>65.0000</td>\n",
       "      <td>1.0000</td>\n",
       "      <td>97.3528</td>\n",
       "    </tr>\n",
       "  </tbody>\n",
       "</table>\n",
       "</div>"
      ],
      "text/plain": [
       "             LOAN      MORTDUE        VALUE       YOJ     DEROG    DELINQ  \\\n",
       "count    840.0000     840.0000     840.0000  840.0000  840.0000  840.0000   \n",
       "mean   16389.4048   68966.4455   97955.4343    7.8549    0.6762    1.1488   \n",
       "std    10861.3966   47625.8831   60299.8026    6.8546    1.4318    1.8631   \n",
       "min     1100.0000    2800.0000   12500.0000    0.0000    0.0000    0.0000   \n",
       "25%     9000.0000   39552.0000   60498.2500    2.5000    0.0000    0.0000   \n",
       "50%    14600.0000   59374.5000   83000.0000    6.0000    0.0000    0.0000   \n",
       "75%    20650.0000   84985.5000  118031.2500   11.2500    1.0000    2.0000   \n",
       "max    77400.0000  399412.0000  512650.0000   41.0000   10.0000   15.0000   \n",
       "\n",
       "           NINQ      CLNO  Tiene_Empleo  Años_Credito  \n",
       "count  840.0000  840.0000      840.0000      840.0000  \n",
       "mean     1.8440   22.1250        0.9548       12.4777  \n",
       "std      2.2172   11.3532        0.2079        7.3822  \n",
       "min      0.0000    0.0000        0.0000        0.0000  \n",
       "25%      0.0000   14.0000        1.0000        7.8784  \n",
       "50%      1.0000   21.0000        1.0000       11.0011  \n",
       "75%      3.0000   28.0000        1.0000       16.1591  \n",
       "max     13.0000   65.0000        1.0000       97.3528  "
      ]
     },
     "execution_count": 142,
     "metadata": {},
     "output_type": "execute_result"
    }
   ],
   "source": [
    "#Filtrar los préstamos morosos a partir de la variable 'BAD'\n",
    "train_df[train_df['BAD']==1].drop('BAD', axis=1).describe().round(4)"
   ]
  },
  {
   "cell_type": "markdown",
   "metadata": {},
   "source": [
    "De las estadísticas descriptivas se pueden comenzar a perfilar algunas definiciones:\n",
    "\n",
    "- La media de las variables de préstamo solicitado ('LOAN'), importe vencido de la hipoteca ('MORTDUE') y valor de la garantía ('VALUE') es mayor en el caso de las muestras de préstamos PAGADOS. Al tratarse de valores que no son significativamente diferentes, puede no existir un potencial para categorización.\n",
    "\n",
    "- La media de años en el puesto de trabajo actual ('YOJ') sugiere que los préstamos MOROSOS son más frecuentes en los aplicantes con una menor antigüedad en sus trabajos actuales. Esta tendencia se observa también en los cuartiles.\n",
    "\n",
    "- Luego, se puede observar el caso de las variables relacionadas con el historial crediticio de la persona que solicita el préstamo, como el número de informes derogatorios importantes ('DEROG'), el número de líneas de crédito en mora ('DELINQ'), la antigüedad de la línea de crédito ('CLAGE') y el número de consultas de crédito recientes ('NINQ'). En el caso de los préstamos MOROSOS, la distribución de estas variables sugiere un sesgo hacia peores historiales de crédito comparados con la distribución correspondiente para los préstamos PAGADOS.\n",
    "\n",
    "- Finalmente, el la media de líneas de crédito abiertas ('CLNO') es similar en ambos casos, con lo que tampoco existiría un potencial significativo para categorización."
   ]
  }
 ],
 "metadata": {
  "kernelspec": {
   "display_name": "Python 3.9.12 ('base')",
   "language": "python",
   "name": "python3"
  },
  "language_info": {
   "codemirror_mode": {
    "name": "ipython",
    "version": 3
   },
   "file_extension": ".py",
   "mimetype": "text/x-python",
   "name": "python",
   "nbconvert_exporter": "python",
   "pygments_lexer": "ipython3",
   "version": "3.9.12"
  },
  "vscode": {
   "interpreter": {
    "hash": "19d1d53a962d236aa061289c2ac16dc8e6d9648c89fe79f459ae9a3493bc67b4"
   }
  }
 },
 "nbformat": 4,
 "nbformat_minor": 4
}
